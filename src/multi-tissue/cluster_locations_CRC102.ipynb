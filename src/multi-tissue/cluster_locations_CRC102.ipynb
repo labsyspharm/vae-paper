{
 "cells": [
  {
   "cell_type": "code",
   "execution_count": 1,
   "id": "1f5d4f7d-2c3d-4dfb-9200-10d5e2479dda",
   "metadata": {},
   "outputs": [],
   "source": [
    "import os\n",
    "import sys\n",
    "import glob\n",
    "import yaml\n",
    "\n",
    "import numpy as np\n",
    "import pandas as pd\n",
    "\n",
    "from math import ceil\n",
    "\n",
    "from matplotlib import cm\n",
    "\n",
    "import tifffile\n",
    "\n",
    "import zarr\n",
    "import napari\n",
    "import dask.array as da\n",
    "\n",
    "# add parent directory to sys.path to call utility functions\n",
    "sys.path.append(os.path.abspath(os.path.join('..')))\n",
    "from utils.utility_functions import single_channel_pyramid"
   ]
  },
  {
   "cell_type": "code",
   "execution_count": 2,
   "id": "f712f18d-d749-4a2f-847a-13d9cedb58f5",
   "metadata": {},
   "outputs": [],
   "source": [
    "# connect to \"smb://research.files.med.harvard.edu/SysBio\"\n",
    "# to read image data"
   ]
  },
  {
   "cell_type": "code",
   "execution_count": 3,
   "id": "210fed42-e93d-483d-8f4f-d6e03685e74e",
   "metadata": {},
   "outputs": [],
   "source": [
    "# specify which clustering(s) in main.csv to visualize\n",
    "clusterings = ['cluster']"
   ]
  },
  {
   "cell_type": "code",
   "execution_count": 4,
   "id": "f2b08725-c957-41c5-af54-c3d064599a61",
   "metadata": {},
   "outputs": [],
   "source": [
    "# I/O\n",
    "\n",
    "# read single-cell data\n",
    "main = pd.read_csv('/Users/greg/Desktop/MULTI-TISSUE_FINAL/main.csv')\n",
    "\n",
    "main = main[main['Sample'] == 'CRC102']\n",
    "tif_path = '/Volumes/SysBio/SORGER PROJECTS/people/Greg_Baker/data_097_102/tif/WD-76845-102.ome.tif'\n",
    "seg_path = '/Volumes/SysBio/SORGER PROJECTS/people/Greg_Baker/data_097_102/seg/CRC102/nucleiRingOutlines.tif'\n",
    "\n",
    "# import markers.csv\n",
    "markers = pd.read_csv('/Users/greg/Desktop/CRC097_102/CRC-097_mcmicro_markers.csv')\n",
    "\n",
    "# import image contrast settings\n",
    "# with open(os.path.join(os.getcwd(), 'input/CRC-097_cylinter_contrast_limits.yml')) as f:\n",
    "#     contrast_limits = yaml.safe_load(f)\n",
    "\n",
    "# isolate antibodies of interest\n",
    "abx_channels = [\n",
    "    \"anti_CD3\", \"anti_CD45RO\", \"Keratin_570\", \"aSMA_660\", \"CD4_488\", \"CD45_PE\", \"PD1_647\",\n",
    "    \"CD20_488\", \"CD68_555\", \"CD8a_660\", \"CD163_488\", \"FOXP3_570\", \"PDL1_647\", \"Ecad_488\",\n",
    "    \"Vimentin_555\", \"CDX2_647\", \"LaminABC_488\", \"Desmin_555\", \"CD31_647\", \"PCNA_488\",\n",
    "    \"CollagenIV_647\"\n",
    "]"
   ]
  },
  {
   "cell_type": "code",
   "execution_count": 5,
   "id": "37fb8756-1da4-479f-957b-434c97d358b8",
   "metadata": {},
   "outputs": [],
   "source": [
    "# add DNA1 channel to image viewer\n",
    "dna, min, max = single_channel_pyramid(glob.glob(tif_path)[0], channel=0)\n",
    "viewer = napari.view_image(\n",
    "    dna, rgb=False, blending='additive',\n",
    "    colormap='gray', visible=True, opacity=0.8,\n",
    "    name='DNA1', contrast_limits=(min, max)\n",
    ")"
   ]
  },
  {
   "cell_type": "code",
   "execution_count": 6,
   "id": "1a206465-7381-44bb-ba39-fe041431f83b",
   "metadata": {},
   "outputs": [],
   "source": [
    "# add marker channels to image viewer and apply previously defined contrast limits\n",
    "for ch in abx_channels:\n",
    "    channel_number = markers['channel_number'][markers['marker_name'] == ch]\n",
    "    \n",
    "    color = 'green'\n",
    "    \n",
    "    img, min, max = single_channel_pyramid(\n",
    "        glob.glob(tif_path)[0], channel=(channel_number.item() - 1)\n",
    "    )\n",
    "    viewer.add_image(\n",
    "        img, rgb=False, blending='additive', colormap=color, visible=False, name=ch,\n",
    "        contrast_limits=(min, max)\n",
    "    )\n",
    "# for ch in abx_channels:\n",
    "#     viewer.layers[ch].contrast_limits = (\n",
    "#         contrast_limits[ch][0], contrast_limits[ch][1])"
   ]
  },
  {
   "cell_type": "code",
   "execution_count": 7,
   "id": "d95b35b1-259e-4603-9b6d-398c477a3578",
   "metadata": {},
   "outputs": [],
   "source": [
    "# add centroids of cells in each clustering\n",
    "for clustering in clusterings:\n",
    "    \n",
    "    num_colors = len(list(cm.tab20.colors))\n",
    "    num_clusters = len(main[clustering].unique())\n",
    "    palette_multiplier = ceil(num_clusters / num_colors)\n",
    "    colors = list(cm.tab20.colors) * palette_multiplier\n",
    "    colors = colors[0:num_clusters]\n",
    "    colors.reverse()\n",
    "\n",
    "    for c, cluster in zip(colors, sorted(main[clustering].unique(), reverse=True)):\n",
    "        # if cluster in [0, 11, 228, 232]:\n",
    "        centroids = main[['Y_centroid', 'X_centroid']][main[clustering] == cluster]\n",
    "        viewer.add_points(\n",
    "            centroids, name=f'{clustering}_{cluster}', face_color=np.array(c), edge_color='white',\n",
    "            edge_width=0.0, size=60.0, opacity=1.0, blending='translucent', visible=False\n",
    "        )"
   ]
  },
  {
   "cell_type": "code",
   "execution_count": 8,
   "id": "47449d86-77f3-4cb4-aaf8-59021cd3df9c",
   "metadata": {},
   "outputs": [],
   "source": [
    "# add segmentation outlines to image viewer\n",
    "# seg, min, max = single_channel_pyramid(glob.glob(seg_path)[0], channel=0)\n",
    "# viewer.add_image(\n",
    "#     seg, rgb=False, blending='additive',\n",
    "#     colormap='gray', visible=False,\n",
    "#     name='segmentation', opacity=0.3, contrast_limits=(min, max)\n",
    "# )"
   ]
  },
  {
   "cell_type": "code",
   "execution_count": 9,
   "id": "b13d00ad-e975-4137-92da-c0372e753ef5",
   "metadata": {},
   "outputs": [],
   "source": [
    "# run image viewer\n",
    "viewer.scale_bar.visible = True\n",
    "viewer.scale_bar.unit = 'um'\n",
    "\n",
    "napari.run()"
   ]
  }
 ],
 "metadata": {
  "kernelspec": {
   "display_name": "Python 3 (ipykernel)",
   "language": "python",
   "name": "python3"
  },
  "language_info": {
   "codemirror_mode": {
    "name": "ipython",
    "version": 3
   },
   "file_extension": ".py",
   "mimetype": "text/x-python",
   "name": "python",
   "nbconvert_exporter": "python",
   "pygments_lexer": "ipython3",
   "version": "3.9.16"
  }
 },
 "nbformat": 4,
 "nbformat_minor": 5
}
