{
 "cells": [
  {
   "cell_type": "code",
   "execution_count": 1,
   "id": "9beac609-5002-4440-9a08-1504d24dd1c2",
   "metadata": {},
   "outputs": [],
   "source": [
    "import os\n",
    "import re\n",
    "import glob\n",
    "import yaml\n",
    "import argparse\n",
    "\n",
    "import numpy as np\n",
    "import pandas as pd\n",
    "from matplotlib import cm\n",
    "\n",
    "from math import ceil\n",
    "\n",
    "import zarr\n",
    "import napari\n",
    "import tifffile\n",
    "import dask.array as da\n",
    "\n",
    "from utils.utility_functions import single_channel_pyramid"
   ]
  },
  {
   "cell_type": "code",
   "execution_count": 2,
   "id": "195d4c70-7e0e-47d7-906d-a9c4ec039bdc",
   "metadata": {},
   "outputs": [],
   "source": [
    "# connect to \"smb://files.med.harvard.edu/ImStor/sorger/data/RareCyte\" to read SARDANA-102 image data"
   ]
  },
  {
   "cell_type": "code",
   "execution_count": 3,
   "id": "de2bb23a-5e41-4d37-b873-b5e44cb3645d",
   "metadata": {},
   "outputs": [],
   "source": [
    "# Paths and input\n",
    "tif_path = '/Volumes/RareCyte/JL503_JERRY/TNP_2020/WD-76845-102.ome.tif'\n",
    "seg_path = (\n",
    "    '/Volumes/RareCyte/JL503_JERRY/TNP_2020/mcmicro-20200922/'\n",
    "    'WD-76845-102/qc/s3seg/unmicst-WD-76845-102/nucleiRingOutlines.tif'\n",
    ")\n",
    "# Import SARDANA-102 single-cell data (unclustered)\n",
    "sc_data_path = (\n",
    "    '/Volumes/RareCyte/JL503_JERRY/TNP_2020/mcmicro-20200922/WD-76845-102.csv'\n",
    ")\n",
    "data = pd.read_csv(sc_data_path)\n",
    "\n",
    "# Get list of markers that were excluded from analysis\n",
    "cylinter_config_path = '/Volumes/T7 Shield/cylinter_input/clean_quant/config.yml'\n",
    "with open(cylinter_config_path) as f:\n",
    "    config = yaml.safe_load(f)\n",
    "markers_to_exclude = config['markersToExclude']\n",
    "\n",
    "# Import markers.csv\n",
    "markers_path = '/Volumes/T7 Shield/cylinter_input/clean_quant/markers.csv'\n",
    "markers = pd.read_csv(markers_path)\n",
    "\n",
    "# Get name of first DNA channel\n",
    "dna1 = markers['marker_name'][markers['channel_number'] == 1][0]\n",
    "dna_moniker = str(re.search(r'[^\\W\\d]+', dna1).group())\n",
    "\n",
    "# Import image contrast settings\n",
    "image_contrast_path = (\n",
    "    '/Volumes/T7 Shield/cylinter_input/clean_quant/output_3d_v2/contrast/contrast_limits.yml'\n",
    ")\n",
    "with open(image_contrast_path) as f:\n",
    "    contrast_limits = yaml.safe_load(f)\n",
    "\n",
    "# The parquet file at the path below is being read because \"consensus_vae_clusterings8.csv\" \n",
    "# uses trimmed marker channel names as column headers that differ from the raw channel names used \n",
    "# in the markers.csv file used to index channels in the OME-TIFF image.\n",
    "for_channels_path = (\n",
    "    '/Volumes/T7 Shield/cylinter_input/clean_quant/output_3d_v2/leiden_clustering.parquet'\n",
    ") \n",
    "for_channels = pd.read_parquet(for_channels_path)\n",
    "\n",
    "# Isolate antibodies of interest\n",
    "abx_channels = [\n",
    "    i for i in for_channels.columns if 'nucleiRingMask' in i if\n",
    "    'Hoechst' not in i if i not in markers_to_exclude\n",
    "]\n",
    "\n",
    "# SARADANA-102 clustering (VAE20 model applied, HDBSCAN clustering)\n",
    "clusters = pd.read_csv(os.path.join(os.getcwd(), 'input/vae102_clustering_solution_MCS150_NN30_RS3_Rand3.csv'))\n",
    "\n",
    "data = data.merge(clusters, how='inner', on='CellID')"
   ]
  },
  {
   "cell_type": "code",
   "execution_count": 4,
   "id": "91b3592c-9f3d-4fba-869a-d74ee6a258d4",
   "metadata": {},
   "outputs": [
    {
     "data": {
      "text/plain": [
       "<Image layer 'DNA1' at 0x15d25d7c0>"
      ]
     },
     "execution_count": 4,
     "metadata": {},
     "output_type": "execute_result"
    }
   ],
   "source": [
    "viewer = napari.Viewer()\n",
    "\n",
    "# Add DNA1 channel to Napari image viewer\n",
    "dna, min, max = single_channel_pyramid(glob.glob(tif_path)[0], channel=0)\n",
    "viewer.add_image(\n",
    "    dna, rgb=False, blending='additive',\n",
    "    colormap='gray', visible=True, opacity=1.0,\n",
    "    name='DNA1', contrast_limits=(min, max)\n",
    ")"
   ]
  },
  {
   "cell_type": "code",
   "execution_count": 5,
   "id": "d8f1ce40-e709-49f0-9c84-cf42e39c004f",
   "metadata": {},
   "outputs": [],
   "source": [
    "# Add marker channels and apply previously defined contrast limits\n",
    "for ch in abx_channels:\n",
    "    ch = ch.rsplit('_', 1)[0]\n",
    "    channel_number = markers['channel_number'][markers['marker_name'] == ch]\n",
    "    img, min, max = single_channel_pyramid(\n",
    "        glob.glob(tif_path)[0], channel=(channel_number.item() - 1)\n",
    "    )\n",
    "    viewer.add_image(\n",
    "        img, rgb=False, blending='additive', colormap='green', visible=False, name=ch,\n",
    "        contrast_limits=(min, max)\n",
    "    )\n",
    "for ch in abx_channels:\n",
    "    ch = ch.rsplit('_', 1)[0]\n",
    "    viewer.layers[ch].contrast_limits = (\n",
    "        contrast_limits[ch][0], contrast_limits[ch][1])"
   ]
  },
  {
   "cell_type": "code",
   "execution_count": 6,
   "id": "e448b6d5-5043-4704-aed7-a2876438570a",
   "metadata": {},
   "outputs": [],
   "source": [
    "# Add centroids of cells for Leiden clusters\n",
    "num_colors = len(list(cm.tab20.colors))\n",
    "num_clusters = len(data['vae_cluster'].unique())\n",
    "palette_multiplier = ceil(num_clusters / num_colors)\n",
    "colors = list(cm.tab20.colors) * palette_multiplier\n",
    "colors = colors[0:num_clusters]\n",
    "colors.reverse()\n",
    "\n",
    "for c, cluster in zip(colors, sorted(data['vae_cluster'].unique(), reverse=True)):\n",
    "    centroids = data[['Y_centroid', 'X_centroid']][data['vae_cluster'] == cluster]\n",
    "    viewer.add_points(\n",
    "        centroids, name=f'VAE{cluster}', face_color=np.array(c), edge_color='white',\n",
    "        edge_width=0.0, size=3.0, opacity=1.0, blending='translucent', visible=False\n",
    "    )"
   ]
  },
  {
   "cell_type": "code",
   "execution_count": 7,
   "id": "64032b6a-00dd-46a3-8ad5-a43836b3d683",
   "metadata": {},
   "outputs": [
    {
     "data": {
      "text/plain": [
       "<Image layer 'segmentation' at 0x112e26f70>"
      ]
     },
     "execution_count": 7,
     "metadata": {},
     "output_type": "execute_result"
    }
   ],
   "source": [
    "# Read segmentation outlines\n",
    "seg, min, max = single_channel_pyramid(glob.glob(seg_path)[0], channel=0)\n",
    "viewer.add_image(\n",
    "    seg, rgb=False, blending='additive',\n",
    "    colormap='gray', visible=False,\n",
    "    name='segmentation', opacity=0.3, contrast_limits=(min, max)\n",
    ")"
   ]
  },
  {
   "cell_type": "code",
   "execution_count": 8,
   "id": "ea01cedc-42ef-44fa-9edb-d18ec6e3c38e",
   "metadata": {},
   "outputs": [
    {
     "name": "stderr",
     "output_type": "stream",
     "text": [
      "Traceback (most recent call last):\n",
      "  File \"/Users/greg/venvs/vae/lib/python3.9/site-packages/napari/_qt/containers/qt_layer_model.py\", line 62, in setData\n",
      "    self.getItem(index).visible = (\n",
      "  File \"/Users/greg/venvs/vae/lib/python3.9/site-packages/napari/layers/base/base.py\", line 614, in visible\n",
      "    self.refresh()\n",
      "  File \"/Users/greg/venvs/vae/lib/python3.9/site-packages/napari/layers/base/base.py\", line 1264, in refresh\n",
      "    self.set_view_slice()\n",
      "  File \"/Users/greg/venvs/vae/lib/python3.9/site-packages/napari/layers/base/base.py\", line 1029, in set_view_slice\n",
      "    self._set_view_slice()\n",
      "  File \"/Users/greg/venvs/vae/lib/python3.9/site-packages/napari/layers/image/image.py\", line 834, in _set_view_slice\n",
      "    self._load_slice(data)\n",
      "  File \"/Users/greg/venvs/vae/lib/python3.9/site-packages/napari/layers/image/image.py\", line 860, in _load_slice\n",
      "    if self._slice.load(data):\n",
      "  File \"/Users/greg/venvs/vae/lib/python3.9/site-packages/napari/layers/image/_image_slice.py\", line 125, in load\n",
      "    return self.loader.load(data)\n",
      "  File \"/Users/greg/venvs/vae/lib/python3.9/site-packages/napari/layers/image/_image_loader.py\", line 22, in load\n",
      "    data.load_sync()\n",
      "  File \"/Users/greg/venvs/vae/lib/python3.9/site-packages/napari/layers/image/_image_slice_data.py\", line 44, in load_sync\n",
      "    self.image = np.asarray(self.image)\n",
      "  File \"/Users/greg/venvs/vae/lib/python3.9/site-packages/dask/array/core.py\", line 1700, in __array__\n",
      "    x = self.compute()\n",
      "  File \"/Users/greg/venvs/vae/lib/python3.9/site-packages/dask/base.py\", line 342, in compute\n",
      "    (result,) = compute(self, traverse=False, **kwargs)\n",
      "  File \"/Users/greg/venvs/vae/lib/python3.9/site-packages/dask/base.py\", line 628, in compute\n",
      "    results = schedule(dsk, keys, **kwargs)\n",
      "  File \"/Users/greg/venvs/vae/lib/python3.9/site-packages/zarr/core.py\", line 842, in __getitem__\n",
      "    result = self.get_orthogonal_selection(pure_selection, fields=fields)\n",
      "  File \"/Users/greg/venvs/vae/lib/python3.9/site-packages/zarr/core.py\", line 1124, in get_orthogonal_selection\n",
      "    return self._get_selection(indexer=indexer, out=out, fields=fields)\n",
      "  File \"/Users/greg/venvs/vae/lib/python3.9/site-packages/zarr/core.py\", line 1388, in _get_selection\n",
      "    self._chunk_getitems(\n",
      "  File \"/Users/greg/venvs/vae/lib/python3.9/site-packages/zarr/core.py\", line 2224, in _chunk_getitems\n",
      "    cdatas = self.chunk_store.getitems(ckeys, contexts=contexts)\n",
      "  File \"/Users/greg/venvs/vae/lib/python3.9/site-packages/zarr/_storage/store.py\", line 160, in getitems\n",
      "    return {k: self[k] for k in keys if k in self}\n",
      "  File \"/Users/greg/venvs/vae/lib/python3.9/site-packages/zarr/_storage/store.py\", line 160, in <dictcomp>\n",
      "    return {k: self[k] for k in keys if k in self}\n",
      "  File \"/Users/greg/venvs/vae/lib/python3.9/site-packages/zarr/storage.py\", line 764, in __getitem__\n",
      "    return self._mutable_mapping[key]\n",
      "  File \"/Users/greg/venvs/vae/lib/python3.9/site-packages/tifffile/tifffile.py\", line 12388, in __getitem__\n",
      "    return self._getitem(key)\n",
      "  File \"/Users/greg/venvs/vae/lib/python3.9/site-packages/tifffile/tifffile.py\", line 13098, in _getitem\n",
      "    chunk_bytes = self._filecache.read(fh, offset, bytecount)\n",
      "  File \"/Users/greg/venvs/vae/lib/python3.9/site-packages/tifffile/tifffile.py\", line 15022, in read\n",
      "    data = fh.read(bytecount)\n",
      "  File \"/Users/greg/venvs/vae/lib/python3.9/site-packages/tifffile/tifffile.py\", line 14445, in read\n",
      "    return self._fh.read(size)\n",
      "OSError: [Errno 5] Input/output error\n"
     ]
    }
   ],
   "source": [
    "# run Napari image viewer\n",
    "viewer.scale_bar.visible = True\n",
    "viewer.scale_bar.unit = 'um'\n",
    "\n",
    "napari.run()"
   ]
  }
 ],
 "metadata": {
  "kernelspec": {
   "display_name": "Python 3 (ipykernel)",
   "language": "python",
   "name": "python3"
  },
  "language_info": {
   "codemirror_mode": {
    "name": "ipython",
    "version": 3
   },
   "file_extension": ".py",
   "mimetype": "text/x-python",
   "name": "python",
   "nbconvert_exporter": "python",
   "pygments_lexer": "ipython3",
   "version": "3.9.16"
  }
 },
 "nbformat": 4,
 "nbformat_minor": 5
}
