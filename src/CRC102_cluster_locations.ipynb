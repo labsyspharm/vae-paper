{
 "cells": [
  {
   "cell_type": "code",
   "execution_count": 1,
   "id": "9beac609-5002-4440-9a08-1504d24dd1c2",
   "metadata": {},
   "outputs": [],
   "source": [
    "import os\n",
    "import re\n",
    "import glob\n",
    "import yaml\n",
    "import argparse\n",
    "\n",
    "import numpy as np\n",
    "import pandas as pd\n",
    "from matplotlib import cm\n",
    "\n",
    "from math import ceil\n",
    "\n",
    "import zarr\n",
    "import napari\n",
    "import tifffile\n",
    "import dask.array as da\n",
    "\n",
    "from utils.utility_functions import single_channel_pyramid"
   ]
  },
  {
   "cell_type": "code",
   "execution_count": 2,
   "id": "195d4c70-7e0e-47d7-906d-a9c4ec039bdc",
   "metadata": {},
   "outputs": [],
   "source": [
    "# connect to \"smb://files.med.harvard.edu/ImStor/sorger/data/RareCyte\" to read SARDANA-102 image data"
   ]
  },
  {
   "cell_type": "code",
   "execution_count": 3,
   "id": "de2bb23a-5e41-4d37-b873-b5e44cb3645d",
   "metadata": {},
   "outputs": [],
   "source": [
    "# Paths and input\n",
    "tif_path = '/Volumes/RareCyte/JL503_JERRY/TNP_2020/WD-76845-102.ome.tif'\n",
    "seg_path = (\n",
    "    '/Volumes/RareCyte/JL503_JERRY/TNP_2020/mcmicro-20200922/'\n",
    "    'WD-76845-102/qc/s3seg/unmicst-WD-76845-102/nucleiRingOutlines.tif'\n",
    ")\n",
    "# Import SARDANA-102 single-cell data (unclustered)\n",
    "sc_data_path = (\n",
    "    '/Volumes/RareCyte/JL503_JERRY/TNP_2020/mcmicro-20200922/WD-76845-102.csv'\n",
    ")\n",
    "data = pd.read_csv(sc_data_path)\n",
    "\n",
    "# Get list of markers that were excluded from analysis\n",
    "with open(os.path.join(os.getcwd(), 'input/CRC-97_cylinter_config.yml')) as f:\n",
    "    config = yaml.safe_load(f)\n",
    "markers_to_exclude = config['markersToExclude']\n",
    "\n",
    "# Import markers.csv\n",
    "markers = pd.read_csv(os.path.join(os.getcwd(), 'input/CRC-097_mcmicro_markers.csv'))\n",
    "\n",
    "# Get name of first DNA channel\n",
    "dna1 = markers['marker_name'][markers['channel_number'] == 1][0]\n",
    "dna_moniker = str(re.search(r'[^\\W\\d]+', dna1).group())\n",
    "\n",
    "# Import image contrast settings\n",
    "with open(os.path.join(os.getcwd(), 'input/CRC-097_cylinter_contrast_limits.yml')) as f:\n",
    "    contrast_limits = yaml.safe_load(f)\n",
    "\n",
    "# The parquet file at the path below is being read because \"main.csv\" \n",
    "# uses trimmed marker channel names as column headers that differ from the raw channel names used \n",
    "# in the markers.csv file used to index channels in the OME-TIFF image.\n",
    "for_channels = pd.read_parquet(\n",
    "    os.path.join(os.getcwd(), 'input/CRC-097_clean_cylinter_clustering_3d_leiden.parquet')\n",
    ")\n",
    "\n",
    "# Isolate antibodies of interest\n",
    "abx_channels = [\n",
    "    i for i in for_channels.columns if 'nucleiRingMask' in i if\n",
    "    'Hoechst' not in i if i not in markers_to_exclude\n",
    "]\n",
    "\n",
    "# SARADANA-102 clustering (VAE20 model applied, HDBSCAN clustering)\n",
    "clusters = pd.read_csv(os.path.join(os.getcwd(), 'input/vae102_clustering_solution_MCS150_NN30_RS3_Rand3.csv'))\n",
    "\n",
    "data = data.merge(clusters, how='inner', on='CellID')"
   ]
  },
  {
   "cell_type": "code",
   "execution_count": 4,
   "id": "91b3592c-9f3d-4fba-869a-d74ee6a258d4",
   "metadata": {},
   "outputs": [
    {
     "data": {
      "text/plain": [
       "<Image layer 'DNA1' at 0x1489aa040>"
      ]
     },
     "execution_count": 4,
     "metadata": {},
     "output_type": "execute_result"
    }
   ],
   "source": [
    "viewer = napari.Viewer()\n",
    "\n",
    "# Add DNA1 channel to Napari image viewer\n",
    "dna, min, max = single_channel_pyramid(glob.glob(tif_path)[0], channel=0)\n",
    "viewer.add_image(\n",
    "    dna, rgb=False, blending='additive',\n",
    "    colormap='gray', visible=True, opacity=1.0,\n",
    "    name='DNA1', contrast_limits=(min, max)\n",
    ")"
   ]
  },
  {
   "cell_type": "code",
   "execution_count": 5,
   "id": "d8f1ce40-e709-49f0-9c84-cf42e39c004f",
   "metadata": {},
   "outputs": [],
   "source": [
    "# Add marker channels and apply previously defined contrast limits\n",
    "for ch in abx_channels:\n",
    "    ch = ch.rsplit('_', 1)[0]\n",
    "    channel_number = markers['channel_number'][markers['marker_name'] == ch]\n",
    "    img, min, max = single_channel_pyramid(\n",
    "        glob.glob(tif_path)[0], channel=(channel_number.item() - 1)\n",
    "    )\n",
    "    viewer.add_image(\n",
    "        img, rgb=False, blending='additive', colormap='green', visible=False, name=ch,\n",
    "        contrast_limits=(min, max)\n",
    "    )\n",
    "for ch in abx_channels:\n",
    "    ch = ch.rsplit('_', 1)[0]\n",
    "    viewer.layers[ch].contrast_limits = (\n",
    "        contrast_limits[ch][0], contrast_limits[ch][1])"
   ]
  },
  {
   "cell_type": "code",
   "execution_count": 6,
   "id": "e448b6d5-5043-4704-aed7-a2876438570a",
   "metadata": {},
   "outputs": [],
   "source": [
    "# Add centroids of cells for Leiden clusters\n",
    "num_colors = len(list(cm.tab20.colors))\n",
    "num_clusters = len(data['vae_cluster'].unique())\n",
    "palette_multiplier = ceil(num_clusters / num_colors)\n",
    "colors = list(cm.tab20.colors) * palette_multiplier\n",
    "colors = colors[0:num_clusters]\n",
    "colors.reverse()\n",
    "\n",
    "for c, cluster in zip(colors, sorted(data['vae_cluster'].unique(), reverse=True)):\n",
    "    centroids = data[['Y_centroid', 'X_centroid']][data['vae_cluster'] == cluster]\n",
    "    viewer.add_points(\n",
    "        centroids, name=f'VAE{cluster}', face_color=np.array(c), edge_color='white',\n",
    "        edge_width=0.0, size=3.0, opacity=1.0, blending='translucent', visible=False\n",
    "    )"
   ]
  },
  {
   "cell_type": "code",
   "execution_count": 7,
   "id": "64032b6a-00dd-46a3-8ad5-a43836b3d683",
   "metadata": {},
   "outputs": [
    {
     "data": {
      "text/plain": [
       "<Image layer 'segmentation' at 0x15cc76760>"
      ]
     },
     "execution_count": 7,
     "metadata": {},
     "output_type": "execute_result"
    }
   ],
   "source": [
    "# Read segmentation outlines\n",
    "seg, min, max = single_channel_pyramid(glob.glob(seg_path)[0], channel=0)\n",
    "viewer.add_image(\n",
    "    seg, rgb=False, blending='additive',\n",
    "    colormap='gray', visible=False,\n",
    "    name='segmentation', opacity=0.3, contrast_limits=(min, max)\n",
    ")"
   ]
  },
  {
   "cell_type": "code",
   "execution_count": 8,
   "id": "ea01cedc-42ef-44fa-9edb-d18ec6e3c38e",
   "metadata": {},
   "outputs": [],
   "source": [
    "# run Napari image viewer\n",
    "viewer.scale_bar.visible = True\n",
    "viewer.scale_bar.unit = 'um'\n",
    "\n",
    "napari.run()"
   ]
  }
 ],
 "metadata": {
  "kernelspec": {
   "display_name": "Python 3 (ipykernel)",
   "language": "python",
   "name": "python3"
  },
  "language_info": {
   "codemirror_mode": {
    "name": "ipython",
    "version": 3
   },
   "file_extension": ".py",
   "mimetype": "text/x-python",
   "name": "python",
   "nbconvert_exporter": "python",
   "pygments_lexer": "ipython3",
   "version": "3.9.16"
  }
 },
 "nbformat": 4,
 "nbformat_minor": 5
}
