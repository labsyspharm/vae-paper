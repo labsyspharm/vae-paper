{
 "cells": [
  {
   "cell_type": "code",
   "execution_count": 1,
   "id": "59faff37-949c-42a7-904b-b7cf46b2b792",
   "metadata": {},
   "outputs": [],
   "source": [
    "import os\n",
    "import re\n",
    "import glob\n",
    "import yaml\n",
    "\n",
    "import numpy as np\n",
    "import pandas as pd\n",
    "\n",
    "import seaborn as sns\n",
    "from matplotlib import cm\n",
    "import matplotlib.pyplot as plt\n",
    "\n",
    "from math import ceil\n",
    "\n",
    "import tifffile\n",
    "\n",
    "import zarr\n",
    "import napari\n",
    "import dask.array as da\n",
    "\n",
    "from utils.utility_functions import single_channel_pyramid"
   ]
  },
  {
   "cell_type": "code",
   "execution_count": 2,
   "id": "5f323fe9-c1e8-455d-a51f-d9dbcf453c3e",
   "metadata": {},
   "outputs": [],
   "source": [
    "out = os.path.join(os.getcwd(), 'output/VAE20-33_VAE9_ROT_VIG18_percentages')\n",
    "if not os.path.exists(out):\n",
    "    os.makedirs(out)\n",
    "\n",
    "sample = 'CRC-097'\n",
    "\n",
    "tif_path = os.path.join(os.getcwd(), f'input/{sample}_image.ome.tif')\n",
    "seg_path = os.path.join(os.getcwd(), f'input/{sample}_seg_outlines.ome.tif')\n",
    "he_path = os.path.join(os.getcwd(), 'input/hema_eosin.ome.tif')\n",
    "\n",
    "# Read single-cell sample for VAE analysis\n",
    "main = pd.read_csv(os.path.join(os.getcwd(), 'input/main.csv'))\n",
    "\n",
    "# Get list of markers that were excluded from analysis\n",
    "with open(os.path.join(os.getcwd(), 'input/CRC-97_cylinter_config.yml')) as f:\n",
    "    config = yaml.safe_load(f)\n",
    "markers_to_exclude = config['markersToExclude']\n",
    "\n",
    "# Import markers.csv\n",
    "markers = pd.read_csv(os.path.join(os.getcwd(), 'input/CRC-097_mcmicro_markers.csv'))\n",
    "\n",
    "# Get name of first DNA channel\n",
    "dna1 = markers['marker_name'][markers['channel_number'] == 1][0]\n",
    "dna_moniker = str(re.search(r'[^\\W\\d]+', dna1).group())\n",
    "\n",
    "# Import image contrast settings\n",
    "with open(os.path.join(os.getcwd(), 'input/CRC-097_cylinter_contrast_limits.yml')) as f:\n",
    "    contrast_limits = yaml.safe_load(f)\n",
    "\n",
    "# The parquet file at the path below is being read because \"main.csv\" \n",
    "# uses trimmed marker channel names as column headers that differ from the raw channel names used \n",
    "# in the markers.csv file used to index channels in the OME-TIFF image.\n",
    "for_channels = pd.read_parquet(\n",
    "    os.path.join(os.getcwd(), 'input/CRC-097_clean_cylinter_clustering_3d_leiden.parquet')\n",
    ")\n",
    "\n",
    "# isolate antibodies of interest\n",
    "abx_channels = [\n",
    "    i for i in for_channels.columns if 'nucleiRingMask' in i if 'Hoechst' not in i\n",
    "    if i not in markers_to_exclude\n",
    "]"
   ]
  },
  {
   "cell_type": "code",
   "execution_count": 3,
   "id": "62edc455-fce9-40dd-8ff6-884a155fbd5d",
   "metadata": {},
   "outputs": [],
   "source": [
    "# Isolate cluster V20-3\n",
    "vae33 = main[main['VAE20_Leiden'] == 33]"
   ]
  },
  {
   "cell_type": "code",
   "execution_count": 4,
   "id": "f68aa69d-7339-4e9a-adc5-f2b23223ed8b",
   "metadata": {},
   "outputs": [
    {
     "data": {
      "image/png": "[encoded data removed]",
      "text/plain": [
       "<Figure size 200x500 with 1 Axes>"
      ]
     },
     "metadata": {},
     "output_type": "display_data"
    },
    {
     "name": "stdout",
     "output_type": "stream",
     "text": [
      "VAE9_ROT_VIG18\n",
      "7     99.156118\n",
      "1      0.703235\n",
      "17     0.140647\n",
      "dtype: float64\n"
     ]
    }
   ],
   "source": [
    "# Plot stacked barchart\n",
    "plot_input = (vae33.groupby('VAE9_ROT_VIG18').size() / len(vae33) * 100).sort_values(ascending=True)\n",
    "\n",
    "plt.rcParams['font.family'] = 'Arial'\n",
    "sns.set_style('whitegrid')\n",
    "fig, ax = plt.subplots(figsize=(2, 5))\n",
    "\n",
    "# num_colors = len(list(cm.tab10.colors))\n",
    "# num_clusters = len(plot_input.index.unique())\n",
    "# palette_multiplier = ceil(num_clusters / num_colors)\n",
    "# colors = list(cm.tab10.colors) * palette_multiplier\n",
    "# colors = colors[0:num_clusters]\n",
    "# colors.reverse()\n",
    "\n",
    "colors = [\n",
    "    (0.85882353, 0.85882353, 0.55294118),\n",
    "    (0.68235294, 0.78039216, 0.90980392),\n",
    "    (1.0, 0.59607843, 0.58823529),\n",
    "]\n",
    "\n",
    "pd.DataFrame(plot_input).T.plot.bar(stacked=True, ax=ax, lw=0.0, color=colors)\n",
    "handles, labels = ax.get_legend_handles_labels()\n",
    "ax.legend(\n",
    "    handles[::-1], labels[::-1], title='VAE9_ROT_VIG18 cluster',\n",
    "    loc='upper right', bbox_to_anchor=(2.5, 1)\n",
    ")\n",
    "plt.ylabel('% V20-33 cells')\n",
    "ax.set(xticklabels=[])\n",
    "ax.xaxis.grid(False)\n",
    "\n",
    "plt.savefig(os.path.join(out, 'V20-33_VAE9_ROT_VIG18_percentages.pdf'), bbox_inches='tight')\n",
    "plt.show()\n",
    "plt.close('all')\n",
    "\n",
    "print(plot_input.sort_values(ascending=False))"
   ]
  },
  {
   "cell_type": "code",
   "execution_count": 5,
   "id": "d32cac57-cf65-4b87-85c8-fd0bdbb4ef0d",
   "metadata": {},
   "outputs": [],
   "source": [
    "# Add H&E image to Napari viewer as separate RGB channels\n",
    "# for color, channel in zip(['red', 'green', 'blue'], [0, 1, 2]):\n",
    "\n",
    "#     img, min, max = single_channel_pyramid(glob.glob(he_path)[0], channel=channel)\n",
    "\n",
    "#     if channel == 0:\n",
    "#         viewer = napari.view_image(\n",
    "#             img, rgb=False, colormap=color, blending='additive',\n",
    "#             visible=False, name=f'H&E_{color}', contrast_limits=(min, max)\n",
    "#         )\n",
    "#     else:\n",
    "#         viewer.add_image(\n",
    "#             img, rgb=False, colormap=color, blending='additive',\n",
    "#             visible=False, name=f'H&E_{color}', contrast_limits=(min, max)\n",
    "#         )\n",
    "\n",
    "# add H&E image to Napari viewer as a single channel image\n",
    "# from lazy_ops import DatasetView\n",
    "# tiff = tifffile.TiffFile(he_path, is_ome=False)\n",
    "# pyramid = [\n",
    "#     zarr.open(tiff.series[0].levels[0].aszarr())[i] for i in\n",
    "#     list(range(len(tiff.series[0].levels)))\n",
    "#     ]\n",
    "# pyramid = [DatasetView(i).lazy_transpose([1, 2, 0]) for i in pyramid]\n",
    "# pyramid = [da.from_zarr(z) for z in pyramid]\n",
    "#\n",
    "# viewer = napari.view_image(pyramid, rgb=True, name='H&E')"
   ]
  },
  {
   "cell_type": "code",
   "execution_count": 6,
   "id": "d97fe081-45d3-43ee-9a3d-ced9d7592c13",
   "metadata": {},
   "outputs": [],
   "source": [
    "# Add DNA1 channel to Napari image viewer\n",
    "# dna, min, max = single_channel_pyramid(glob.glob(tif_path)[0], channel=0)\n",
    "# viewer.add_image(\n",
    "#     dna, rgb=False, blending='additive', colormap='gray', visible=True,\n",
    "#     opacity=0.75, name='DNA1', contrast_limits=(min, max)\n",
    "# )"
   ]
  },
  {
   "cell_type": "code",
   "execution_count": 7,
   "id": "a1729517-1859-4f1e-b305-f0da722bfa4b",
   "metadata": {},
   "outputs": [],
   "source": [
    "# Add marker channels and apply previously defined contrast limits\n",
    "# for ch in abx_channels:\n",
    "#     ch = ch.rsplit('_', 1)[0]\n",
    "#     channel_number = markers['channel_number'][markers['marker_name'] == ch]\n",
    "#     img, min, max = single_channel_pyramid(glob.glob(tif_path)[0], channel=(channel_number.item() - 1)\n",
    "#     )\n",
    "#     viewer.add_image(\n",
    "#         img, rgb=False, blending='additive', colormap='green', visible=False, name=ch,\n",
    "#         contrast_limits=(min, max)\n",
    "#     )\n",
    "# for ch in abx_channels:\n",
    "#     ch = ch.rsplit('_', 1)[0]\n",
    "#     viewer.layers[ch].contrast_limits = (\n",
    "#         contrast_limits[ch][0], contrast_limits[ch][1])"
   ]
  },
  {
   "cell_type": "code",
   "execution_count": 8,
   "id": "90cc9386-2800-4638-935e-9cbfed45cce8",
   "metadata": {},
   "outputs": [],
   "source": [
    "# Add centroids of cells for VAE9_ROT_VIG18 clusters\n",
    "# num_colors = len(list(cm.tab10.colors))\n",
    "# num_clusters = len(main['VAE9_ROT_VIG18'].unique())\n",
    "# palette_multiplier = ceil(num_clusters / num_colors)\n",
    "# colors = list(cm.tab10.colors) * palette_multiplier\n",
    "# colors = colors[0:num_clusters]\n",
    "# colors.reverse()\n",
    "\n",
    "# for c, cluster in zip(\n",
    "#         colors, vae33.groupby('VAE9_ROT_VIG18').size().sort_values().index):\n",
    "#     centroids = vae33[['Y_centroid', 'X_centroid']][vae33['VAE9_ROT_VIG18'] == cluster]\n",
    "#     if cluster == 7:\n",
    "        # face_color = np.array([1.0, 0.59607843, 0.58823529])\n",
    "#         visible=True\n",
    "#     else:\n",
    "#         visible=False\n",
    "#     viewer.add_points(\n",
    "#         centroids, name=f'VAE9_ROT_VIG18_{cluster}', face_color=np.array([1.0, 1.0, 1.0]), edge_color='white',\n",
    "#         edge_width=0.0, size=80.0, opacity=1.0, blending='translucent', visible=visible\n",
    "#     )"
   ]
  },
  {
   "cell_type": "code",
   "execution_count": 9,
   "id": "80961a12-91d6-408b-9dd9-692fc7714587",
   "metadata": {},
   "outputs": [],
   "source": [
    "# Read segmentation outlines\n",
    "# seg, min, max = single_channel_pyramid(glob.glob(seg_path)[0], channel=0)\n",
    "# viewer.add_image(\n",
    "#     seg, rgb=False, blending='additive', colormap='gray', visible=False,\n",
    "#     name='segmentation', opacity=0.3, contrast_limits=(min, max)\n",
    "# )"
   ]
  },
  {
   "cell_type": "code",
   "execution_count": 10,
   "id": "720e21c7-783d-4e5b-8e96-afda2b7da58c",
   "metadata": {},
   "outputs": [],
   "source": [
    "# Run Napari image viewer\n",
    "# viewer.scale_bar.visible = True\n",
    "# viewer.scale_bar.unit = 'um'\n",
    "\n",
    "# napari.run()"
   ]
  },
  {
   "cell_type": "code",
   "execution_count": 11,
   "id": "2bca48f4-3cd1-4949-bc55-e69d4154c097",
   "metadata": {},
   "outputs": [],
   "source": [
    "# Isolate cluster V20-3\n",
    "vae7 = main[main['VAE20_Leiden'] == 7]"
   ]
  },
  {
   "cell_type": "code",
   "execution_count": 12,
   "id": "97f6a2c6-4764-49d8-b627-063adf0425f0",
   "metadata": {},
   "outputs": [
    {
     "data": {
      "image/png": "[encoded data removed]",
      "text/plain": [
       "<Figure size 200x500 with 1 Axes>"
      ]
     },
     "metadata": {},
     "output_type": "display_data"
    },
    {
     "name": "stdout",
     "output_type": "stream",
     "text": [
      "VAE9_ROT_VIG18\n",
      "4     42.191037\n",
      "2     23.698506\n",
      "8      7.808963\n",
      "1      5.192395\n",
      "12     4.196469\n",
      "22     3.725668\n",
      "7      3.386148\n",
      "17     2.544138\n",
      "13     1.874151\n",
      "21     1.222273\n",
      "16     0.810321\n",
      "23     0.710729\n",
      "9      0.448167\n",
      "10     0.443640\n",
      "25     0.425532\n",
      "18     0.425532\n",
      "24     0.176550\n",
      "0      0.153916\n",
      "30     0.122227\n",
      "14     0.090539\n",
      "19     0.081485\n",
      "20     0.054323\n",
      "26     0.049796\n",
      "27     0.045269\n",
      "11     0.031689\n",
      "3      0.027162\n",
      "15     0.022635\n",
      "31     0.018108\n",
      "29     0.013581\n",
      "5      0.004527\n",
      "6      0.004527\n",
      "dtype: float64\n"
     ]
    }
   ],
   "source": [
    "# Plot stacked barchart\n",
    "plot_input = (vae7.groupby('VAE9_ROT_VIG18').size() / len(vae7) * 100).sort_values(ascending=True)\n",
    "\n",
    "plt.rcParams['font.family'] = 'Arial'\n",
    "sns.set_style('whitegrid')\n",
    "fig, ax = plt.subplots(figsize=(2, 5))\n",
    "\n",
    "num_colors = len(list(cm.tab10.colors))\n",
    "num_clusters = len(plot_input.index.unique())\n",
    "palette_multiplier = ceil(num_clusters / num_colors)\n",
    "colors = list(cm.tab10.colors) * palette_multiplier\n",
    "colors = colors[0:num_clusters]\n",
    "colors.reverse()\n",
    "\n",
    "# colors = [\n",
    "#     (0.85882353, 0.85882353, 0.55294118),\n",
    "#     (0.68235294, 0.78039216, 0.90980392),\n",
    "#     (1.0, 0.59607843, 0.58823529),\n",
    "# ]\n",
    "\n",
    "pd.DataFrame(plot_input).T.plot.bar(stacked=True, ax=ax, lw=0.0, color=colors)\n",
    "handles, labels = ax.get_legend_handles_labels()\n",
    "ax.legend(\n",
    "    handles[::-1], labels[::-1], title='VAE9_ROT_VIG18 cluster',\n",
    "    loc='upper right', bbox_to_anchor=(2.5, 1)\n",
    ")\n",
    "plt.ylabel('% V20-7 cells')\n",
    "ax.set(xticklabels=[])\n",
    "ax.xaxis.grid(False)\n",
    "\n",
    "plt.savefig(os.path.join(out, 'V20-7_VAE9_ROT_VIG18_percentages.pdf'), bbox_inches='tight')\n",
    "plt.show()\n",
    "plt.close('all')\n",
    "\n",
    "print(plot_input.sort_values(ascending=False))"
   ]
  },
  {
   "cell_type": "code",
   "execution_count": 13,
   "id": "65986ac0-da67-4854-868f-a9012865c5d6",
   "metadata": {},
   "outputs": [],
   "source": [
    "# Add H&E image to Napari viewer as separate RGB channels\n",
    "for color, channel in zip(['red', 'green', 'blue'], [0, 1, 2]):\n",
    "\n",
    "    img, min, max = single_channel_pyramid(glob.glob(he_path)[0], channel=channel)\n",
    "\n",
    "    if channel == 0:\n",
    "        viewer = napari.view_image(\n",
    "            img, rgb=False, colormap=color, blending='additive',\n",
    "            visible=False, name=f'H&E_{color}', contrast_limits=(min, max)\n",
    "        )\n",
    "    else:\n",
    "        viewer.add_image(\n",
    "            img, rgb=False, colormap=color, blending='additive',\n",
    "            visible=False, name=f'H&E_{color}', contrast_limits=(min, max)\n",
    "        )\n",
    "\n",
    "# add H&E image to Napari viewer as a single channel image\n",
    "# from lazy_ops import DatasetView\n",
    "# tiff = tifffile.TiffFile(he_path, is_ome=False)\n",
    "# pyramid = [\n",
    "#     zarr.open(tiff.series[0].levels[0].aszarr())[i] for i in\n",
    "#     list(range(len(tiff.series[0].levels)))\n",
    "#     ]\n",
    "# pyramid = [DatasetView(i).lazy_transpose([1, 2, 0]) for i in pyramid]\n",
    "# pyramid = [da.from_zarr(z) for z in pyramid]\n",
    "#\n",
    "# viewer = napari.view_image(pyramid, rgb=True, name='H&E')"
   ]
  },
  {
   "cell_type": "code",
   "execution_count": 14,
   "id": "ef714cbf-0871-4c3d-ac83-4540cfa20d85",
   "metadata": {},
   "outputs": [
    {
     "data": {
      "text/plain": [
       "<Image layer 'DNA1' at 0x14155c5e0>"
      ]
     },
     "execution_count": 14,
     "metadata": {},
     "output_type": "execute_result"
    }
   ],
   "source": [
    "# Add DNA1 channel to Napari image viewer\n",
    "dna, min, max = single_channel_pyramid(glob.glob(tif_path)[0], channel=0)\n",
    "viewer.add_image(\n",
    "    dna, rgb=False, blending='additive', colormap='gray', visible=True,\n",
    "    opacity=0.75, name='DNA1', contrast_limits=(min, max)\n",
    ")"
   ]
  },
  {
   "cell_type": "code",
   "execution_count": 15,
   "id": "9ae346cb-9e2a-4d70-9eaf-ab2f965b3519",
   "metadata": {},
   "outputs": [],
   "source": [
    "# Add marker channels and apply previously defined contrast limits\n",
    "for ch in abx_channels:\n",
    "    ch = ch.rsplit('_', 1)[0]\n",
    "    channel_number = markers['channel_number'][markers['marker_name'] == ch]\n",
    "    img, min, max = single_channel_pyramid(glob.glob(tif_path)[0], channel=(channel_number.item() - 1)\n",
    "    )\n",
    "    viewer.add_image(\n",
    "        img, rgb=False, blending='additive', colormap='green', visible=False, name=ch,\n",
    "        contrast_limits=(min, max)\n",
    "    )\n",
    "for ch in abx_channels:\n",
    "    ch = ch.rsplit('_', 1)[0]\n",
    "    viewer.layers[ch].contrast_limits = (\n",
    "        contrast_limits[ch][0], contrast_limits[ch][1])"
   ]
  },
  {
   "cell_type": "code",
   "execution_count": 16,
   "id": "6372d20b-f0df-4eac-9c63-273d35478279",
   "metadata": {},
   "outputs": [],
   "source": [
    "# Add centroids of cells for VAE9_ROT_VIG18 clusters\n",
    "num_colors = len(list(cm.tab10.colors))\n",
    "num_clusters = len(main['VAE9_ROT_VIG18'].unique())\n",
    "palette_multiplier = ceil(num_clusters / num_colors)\n",
    "colors = list(cm.tab10.colors) * palette_multiplier\n",
    "colors = colors[0:num_clusters]\n",
    "colors.reverse()\n",
    "\n",
    "for c, cluster in zip(\n",
    "        colors, vae7.groupby('VAE9_ROT_VIG18').size().sort_values().index):\n",
    "    centroids = vae7[['Y_centroid', 'X_centroid']][vae7['VAE9_ROT_VIG18'] == cluster]\n",
    "    arrow, clobber, cross, diamond, disc, hbar, ring, square, star, tailed_arrow, triangle_down, triangle_up, vbar, x\n",
    "    if cluster == 4:\n",
    "        symbol = 'cross'\n",
    "        visible=True\n",
    "    elif cluster == 2:\n",
    "        symbol = 'hbar'\n",
    "        visible=True\n",
    "    elif cluster == 8:\n",
    "        symbol = 'triangle_up'\n",
    "        visible=True\n",
    "    elif cluster == 1:\n",
    "        symbol = 'square'\n",
    "        visible=True\n",
    "    elif cluster == 12:\n",
    "        symbol = 'star'\n",
    "        visible=True\n",
    "    elif cyluster == 22:\n",
    "        symbol = 'ring'\n",
    "        visible=True\n",
    "    elif cluster == 7:\n",
    "        symbol = 'disc'\n",
    "        visible=True\n",
    "    else:\n",
    "        symbol = 'disc'\n",
    "        visible=False\n",
    "    viewer.add_points(\n",
    "        centroids, name=f'VAE9_ROT_VIG18_{cluster}', face_color=face_color, edge_color='white',\n",
    "        edge_width=0.0, size=80.0, opacity=1.0, blending='translucent', visible=visible,\n",
    "        symbol=symbol\n",
    "    )"
   ]
  },
  {
   "cell_type": "code",
   "execution_count": 17,
   "id": "36dad00a-c4dd-4474-92ac-1f46ae1a29c9",
   "metadata": {},
   "outputs": [
    {
     "data": {
      "text/plain": [
       "<Image layer 'segmentation' at 0x15dd0f1f0>"
      ]
     },
     "execution_count": 17,
     "metadata": {},
     "output_type": "execute_result"
    }
   ],
   "source": [
    "# Read segmentation outlines\n",
    "seg, min, max = single_channel_pyramid(glob.glob(seg_path)[0], channel=0)\n",
    "viewer.add_image(\n",
    "    seg, rgb=False, blending='additive', colormap='gray', visible=False,\n",
    "    name='segmentation', opacity=0.3, contrast_limits=(min, max)\n",
    ")"
   ]
  },
  {
   "cell_type": "code",
   "execution_count": 18,
   "id": "0fe22530-394f-4700-a436-82dcbb3e7d5e",
   "metadata": {},
   "outputs": [],
   "source": [
    "# Run Napari image viewer\n",
    "viewer.scale_bar.visible = True\n",
    "viewer.scale_bar.unit = 'um'\n",
    "\n",
    "napari.run()"
   ]
  }
 ],
 "metadata": {
  "kernelspec": {
   "display_name": "Python 3 (ipykernel)",
   "language": "python",
   "name": "python3"
  },
  "language_info": {
   "codemirror_mode": {
    "name": "ipython",
    "version": 3
   },
   "file_extension": ".py",
   "mimetype": "text/x-python",
   "name": "python",
   "nbconvert_exporter": "python",
   "pygments_lexer": "ipython3",
   "version": "3.9.16"
  }
 },
 "nbformat": 4,
 "nbformat_minor": 5
}
