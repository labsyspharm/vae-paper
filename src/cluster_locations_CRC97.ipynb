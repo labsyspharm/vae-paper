{
 "cells": [
  {
   "cell_type": "code",
   "execution_count": 1,
   "id": "1f5d4f7d-2c3d-4dfb-9200-10d5e2479dda",
   "metadata": {},
   "outputs": [],
   "source": [
    "import os\n",
    "import re\n",
    "import glob\n",
    "import yaml\n",
    "import argparse\n",
    "\n",
    "import numpy as np\n",
    "import pandas as pd\n",
    "\n",
    "from math import ceil\n",
    "\n",
    "from matplotlib import cm\n",
    "\n",
    "import tifffile\n",
    "\n",
    "import zarr\n",
    "import napari\n",
    "import dask.array as da\n",
    "\n",
    "from utils.utility_functions import single_channel_pyramid"
   ]
  },
  {
   "cell_type": "code",
   "execution_count": 2,
   "id": "210fed42-e93d-483d-8f4f-d6e03685e74e",
   "metadata": {},
   "outputs": [],
   "source": [
    "# specify which clustering(s) in main.csv to visualize\n",
    "clusterings = ['VAE9_ROT_VIG5']  # 'VAE20_ROT_res2.0', 'VAE9_ROT_VIG18' 'VAE20_Leiden' 'seg'"
   ]
  },
  {
   "cell_type": "code",
   "execution_count": 3,
   "id": "f2b08725-c957-41c5-af54-c3d064599a61",
   "metadata": {},
   "outputs": [],
   "source": [
    "# I/O\n",
    "sample = 'CRC-097'\n",
    "\n",
    "# read single-cell data\n",
    "main = pd.read_csv(os.path.join(os.getcwd(), 'input/main4.csv'))\n",
    "\n",
    "# test VAE20_ROT for now\n",
    "# patches = pd.read_csv('/Users/greg/projects/vae-paper/src/input/VAE20_ROT/6_latent_space_LD850/clustering_full/VAE20_ROT_encodings-patches.csv') \n",
    "# df = pd.read_csv('/Users/greg/projects/vae-paper/src/input/VAE20_ROT/6_latent_space_LD850/clustering_full/centroids.csv') \n",
    "# main = pd.concat([df, patches['Cluster']], axis=1)\n",
    "\n",
    "# read OME-TIFF, segmentation outlines, and H&E channels\n",
    "tif_path = os.path.join(os.getcwd(), f'input/{sample}_image.ome.tif')\n",
    "seg_path = os.path.join(os.getcwd(), f'input/{sample}_seg_outlines.ome.tif')\n",
    "he_path = os.path.join(os.getcwd(), 'input/hema_eosin.ome.tif')\n",
    "\n",
    "# import markers.csv\n",
    "markers = pd.read_csv(os.path.join(os.getcwd(), 'input/CRC-097_mcmicro_markers.csv'))\n",
    "\n",
    "# get markers excluded from analysis\n",
    "with open(os.path.join(os.getcwd(), 'input/CRC-97_cylinter_config.yml')) as f:\n",
    "    config = yaml.safe_load(f)\n",
    "markers_to_exclude = config['markersToExclude']\n",
    "\n",
    "# import image contrast settings\n",
    "with open(os.path.join(os.getcwd(), 'input/CRC-097_cylinter_contrast_limits.yml')) as f:\n",
    "    contrast_limits = yaml.safe_load(f)\n",
    "\n",
    "# The parquet file at the path below is being read because \"main.csv\" \n",
    "# uses trimmed marker channel names as column headers that differ from the raw channel names used \n",
    "# in the markers.csv file, which is itself used to index channels in the OME-TIFF image.\n",
    "for_channels = pd.read_parquet(\n",
    "    os.path.join(os.getcwd(), 'input/CRC-097_clean_cylinter_clustering_3d_leiden.parquet')\n",
    ")\n",
    "\n",
    "# isolate antibodies of interest\n",
    "abx_channels = [\n",
    "    i for i in for_channels.columns if 'nucleiRingMask' in i if\n",
    "    'Hoechst' not in i if i not in markers_to_exclude\n",
    "]\n",
    "\n",
    "# get name of first DNA channel\n",
    "dna1 = markers['marker_name'][markers['channel_number'] == 1][0]\n",
    "dna_moniker = str(re.search(r'[^\\W\\d]+', dna1).group())"
   ]
  },
  {
   "cell_type": "code",
   "execution_count": 4,
   "id": "1fa1133e-86e9-47cd-ac89-60518280b900",
   "metadata": {},
   "outputs": [],
   "source": [
    "# add H&E image to Napari viewer as separate RGB channels\n",
    "for color, channel in zip(['red', 'green', 'blue'], [0, 1, 2]):\n",
    "\n",
    "    img, min, max = single_channel_pyramid(glob.glob(he_path)[0], channel=channel)\n",
    "\n",
    "    if channel == 0:\n",
    "        viewer = napari.view_image(\n",
    "            img, rgb=False, colormap=color, blending='additive',\n",
    "            visible=False, name=f'H&E_{color}', contrast_limits=(min, max)\n",
    "        )\n",
    "    else:\n",
    "        viewer.add_image(\n",
    "            img, rgb=False, colormap=color, blending='additive',\n",
    "            visible=False, name=f'H&E_{color}', contrast_limits=(min, max)\n",
    "        )"
   ]
  },
  {
   "cell_type": "code",
   "execution_count": 5,
   "id": "a02e0488-348d-45b3-9cb7-97f6868e212a",
   "metadata": {},
   "outputs": [],
   "source": [
    "# OPTIONAL: add H&E image to Napari viewer as a single channel image\n",
    "\n",
    "# from lazy_ops import DatasetView\n",
    "# tiff = tifffile.TiffFile(he_path, is_ome=False)\n",
    "# pyramid = [\n",
    "#     zarr.open(tiff.series[0].levels[0].aszarr())[i] for i in\n",
    "#     list(range(len(tiff.series[0].levels)))\n",
    "#     ]\n",
    "# pyramid = [DatasetView(i).lazy_transpose([1, 2, 0]) for i in pyramid]\n",
    "# pyramid = [da.from_zarr(z) for z in pyramid]\n",
    "#\n",
    "# viewer = napari.view_image(pyramid, rgb=True, name='H&E')"
   ]
  },
  {
   "cell_type": "code",
   "execution_count": 6,
   "id": "37fb8756-1da4-479f-957b-434c97d358b8",
   "metadata": {},
   "outputs": [
    {
     "data": {
      "text/plain": [
       "<Image layer 'DNA1' at 0x142952760>"
      ]
     },
     "execution_count": 6,
     "metadata": {},
     "output_type": "execute_result"
    }
   ],
   "source": [
    "# add DNA1 channel to image viewer\n",
    "dna, min, max = single_channel_pyramid(glob.glob(tif_path)[0], channel=0)\n",
    "viewer.add_image(\n",
    "    dna, rgb=False, blending='additive',\n",
    "    colormap='gray', visible=True, opacity=0.8,\n",
    "    name='DNA1', contrast_limits=(min, max)\n",
    ")"
   ]
  },
  {
   "cell_type": "code",
   "execution_count": 7,
   "id": "1a206465-7381-44bb-ba39-fe041431f83b",
   "metadata": {},
   "outputs": [],
   "source": [
    "# add marker channels to image viewer and apply previously defined contrast limits\n",
    "for ch in abx_channels:\n",
    "    ch = ch.rsplit('_', 1)[0]\n",
    "    channel_number = markers['channel_number'][markers['marker_name'] == ch]\n",
    "    if ch == 'Keratin_570':\n",
    "        color = np.array([0.12156862745098039, 0.4666666666666667, 0.7058823529411765])\n",
    "    elif ch == 'aSMA_660':\n",
    "        color = np.array([1.0, 0.4980392156862745, 0.054901960784313725])\n",
    "    elif ch == 'CD4_488':\n",
    "        color = np.array([0.17254901960784313, 0.6274509803921569, 0.17254901960784313])\n",
    "    elif ch == 'PCNA_488':\n",
    "        color = np.array([0.8392156862745098, 0.15294117647058825, 0.1568627450980392])\n",
    "    elif ch == 'CD31_647':\n",
    "        color = np.array([0.5803921568627451, 0.403921568627451, 0.7411764705882353])\n",
    "    elif ch == 'FOXP3_570':\n",
    "        color = np.array([0.8901960784313725, 0.4666666666666667, 0.7607843137254902])\n",
    "    elif ch == 'CD20_488':\n",
    "        color = np.array([0.7372549019607844, 0.7411764705882353, 0.13333333333333333])\n",
    "    elif ch == 'CD8a_660':\n",
    "        color = np.array([0.09019607843137255, 0.7450980392156863, 0.8117647058823529])\n",
    "    else:\n",
    "        color = 'green'\n",
    "    \n",
    "    img, min, max = single_channel_pyramid(\n",
    "        glob.glob(tif_path)[0], channel=(channel_number.item() - 1)\n",
    "    )\n",
    "    viewer.add_image(\n",
    "        img, rgb=False, blending='additive', colormap=color, visible=False, name=ch,\n",
    "        contrast_limits=(min, max)\n",
    "    )\n",
    "for ch in abx_channels:\n",
    "    ch = ch.rsplit('_', 1)[0]\n",
    "    viewer.layers[ch].contrast_limits = (\n",
    "        contrast_limits[ch][0], contrast_limits[ch][1])"
   ]
  },
  {
   "cell_type": "code",
   "execution_count": 8,
   "id": "d95b35b1-259e-4603-9b6d-398c477a3578",
   "metadata": {},
   "outputs": [],
   "source": [
    "# add centroids of cells in each clustering\n",
    "for clustering in clusterings:\n",
    "    \n",
    "    num_colors = len(list(cm.tab20.colors))\n",
    "    num_clusters = len(main[clustering].unique())\n",
    "    palette_multiplier = ceil(num_clusters / num_colors)\n",
    "    colors = list(cm.tab20.colors) * palette_multiplier\n",
    "    colors = colors[0:num_clusters]\n",
    "    colors.reverse()\n",
    "\n",
    "    if clustering == 'VAE9_ROT_VIG18':\n",
    "        \n",
    "        # 9um (14px) meta-cluster groups\n",
    "        epithelial = [24, 25, 20, 14, 31, 9, 10, 3, 5, 6, 11, 15, 19, 27, 28] \n",
    "        immune = [26, 30, 8, 12, 16, 21, 7, 2, 22]\n",
    "        stromal = [1, 4, 13, 18, 29, 0, 17, 23]\n",
    "        cluster_order = epithelial + immune + stromal\n",
    "        cluster_order.reverse()\n",
    "        \n",
    "        my_dict = dict(zip(sorted(main[clustering].unique(), reverse=True), colors))\n",
    "        sorted_dict = {key: my_dict[key] for key in cluster_order if key in my_dict}\n",
    "\n",
    "        for cluster, c in sorted_dict.items():\n",
    "            centroids = main[['Y_centroid', 'X_centroid']][main[clustering] == cluster]\n",
    "            viewer.add_points(\n",
    "                centroids, name=f'{clustering}_{cluster}', face_color=np.array(c), edge_color='white',\n",
    "                edge_width=0.0, size=60.0, opacity=1.0, blending='translucent', visible=False\n",
    "            )\n",
    "\n",
    "    else:\n",
    "        for c, cluster in zip(colors, sorted(main[clustering].unique(), reverse=True)):\n",
    "            centroids = main[['Y_centroid', 'X_centroid']][main[clustering] == cluster]\n",
    "            viewer.add_points(\n",
    "                centroids, name=f'{clustering}_{cluster}', face_color=np.array(c), edge_color='white',\n",
    "                edge_width=0.0, size=60.0, opacity=1.0, blending='translucent', visible=False\n",
    "            )"
   ]
  },
  {
   "cell_type": "code",
   "execution_count": 9,
   "id": "47449d86-77f3-4cb4-aaf8-59021cd3df9c",
   "metadata": {},
   "outputs": [
    {
     "data": {
      "text/plain": [
       "<Image layer 'segmentation' at 0x15ba49070>"
      ]
     },
     "execution_count": 9,
     "metadata": {},
     "output_type": "execute_result"
    }
   ],
   "source": [
    "# add segmentation outlines to image viewer\n",
    "seg, min, max = single_channel_pyramid(glob.glob(seg_path)[0], channel=0)\n",
    "viewer.add_image(\n",
    "    seg, rgb=False, blending='additive',\n",
    "    colormap='gray', visible=False,\n",
    "    name='segmentation', opacity=0.3, contrast_limits=(min, max)\n",
    ")"
   ]
  },
  {
   "cell_type": "code",
   "execution_count": 10,
   "id": "b13d00ad-e975-4137-92da-c0372e753ef5",
   "metadata": {},
   "outputs": [],
   "source": [
    "# run image viewer\n",
    "viewer.scale_bar.visible = True\n",
    "viewer.scale_bar.unit = 'um'\n",
    "\n",
    "napari.run()"
   ]
  }
 ],
 "metadata": {
  "kernelspec": {
   "display_name": "Python 3 (ipykernel)",
   "language": "python",
   "name": "python3"
  },
  "language_info": {
   "codemirror_mode": {
    "name": "ipython",
    "version": 3
   },
   "file_extension": ".py",
   "mimetype": "text/x-python",
   "name": "python",
   "nbconvert_exporter": "python",
   "pygments_lexer": "ipython3",
   "version": "3.9.16"
  }
 },
 "nbformat": 4,
 "nbformat_minor": 5
}
