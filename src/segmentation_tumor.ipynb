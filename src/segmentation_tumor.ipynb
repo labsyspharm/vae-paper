{
 "cells": [
  {
   "cell_type": "code",
   "execution_count": 1,
   "id": "54ba8d5c-f3dc-4d2c-a2d1-11a2b65e71d3",
   "metadata": {},
   "outputs": [],
   "source": [
    "import os\n",
    "import yaml\n",
    "\n",
    "import pandas as pd\n",
    "\n",
    "import seaborn as sns\n",
    "import matplotlib.pyplot as plt\n",
    "from matplotlib.colors import TwoSlopeNorm\n",
    "\n",
    "plt.rcParams['font.family'] = 'Arial'"
   ]
  },
  {
   "cell_type": "code",
   "execution_count": 2,
   "id": "c5b6a7a2-86b4-4518-8dd3-a322a56fc771",
   "metadata": {},
   "outputs": [],
   "source": [
    "# read image patch dataframe\n",
    "main = pd.read_csv(os.path.join(os.getcwd(), 'input/main.csv'))\n",
    "\n",
    "# isolate tumor-associated clusters\n",
    "main = main[main['Seg'].isin([0, 1, 2, 8, 10])]\n",
    "\n",
    "# import markers.csv\n",
    "markers = pd.read_csv(os.path.join(os.getcwd(), 'input/CRC-097_mcmicro_markers.csv'))\n",
    "\n",
    "# read SARDANA-097 image contrast settings (defined in CyLinter)\n",
    "contrast_dir = os.path.join(os.getcwd(), 'input/CRC-097_cylinter_contrast_limits.yml')\n",
    "contrast_limits = yaml.safe_load(open(contrast_dir))\n",
    "\n",
    "# read OME-TIFF, segmentation outlines, and H&E channels\n",
    "tif_path = os.path.join(os.getcwd(), 'input/CRC-097_image.ome.tif')\n",
    "seg_path = os.path.join(os.getcwd(), 'input/CRC-097_seg_outlines.ome.tif')\n",
    "he_path = os.path.join(os.getcwd(), 'input/CRC-097_hema_eosin.ome.tif')\n",
    "\n",
    "# out dir\n",
    "out = os.path.join(os.getcwd(), f'output/segmentation_tumor')\n",
    "if not os.path.exists(out):\n",
    "    os.makedirs(out)"
   ]
  },
  {
   "cell_type": "code",
   "execution_count": 3,
   "id": "144e5b43-e22f-4657-9236-db80494d7686",
   "metadata": {},
   "outputs": [
    {
     "data": {
      "image/png": "[encoded data removed]",
      "text/plain": [
       "<Figure size 640x480 with 2 Axes>"
      ]
     },
     "metadata": {},
     "output_type": "display_data"
    }
   ],
   "source": [
    "# compute and plot channel z-scores\n",
    "\n",
    "channels = {\n",
    "    'PCNA_488': 19\n",
    "    # 'Keratin_570': 2, 'Ecad_488': 13,\n",
    "}\n",
    "\n",
    "antibody_abbrs = {\n",
    "    'Hoechst0': 'DNA', 'anti_CD3': 'CD3', 'anti_CD45RO': 'CD45RO', 'Keratin_570': 'Keratin', 'aSMA_660': 'aSMA',\n",
    "    'CD4_488': 'CD4', 'CD45_PE': 'CD45', 'PD1_647': 'PD1', 'CD20_488': 'CD20', 'CD68_555': 'CD68',\n",
    "    'CD8a_660': 'CD8a', 'CD163_488': 'CD163', 'FOXP3_570': 'FOXP3', 'PDL1_647': 'PDL1',\n",
    "    'Ecad_488': 'ECAD', 'Vimentin_555': 'Vimentin', 'CDX2_647': 'CDX2', 'LaminABC_488': 'LaminABC',\n",
    "    'Desmin_555': 'Desmin', 'CD31_647': 'CD31', 'PCNA_488': 'PCNA', 'CollagenIV_647': 'CollagenIV',\n",
    "}\n",
    "\n",
    "# compute mean intensity of cells per cluster\n",
    "clustermap_input = main[list(channels.keys()) + ['Seg']].groupby('Seg').mean()\n",
    "\n",
    "# compute per channel z-scores across clusters\n",
    "clustermap_input = (clustermap_input-clustermap_input.mean())/clustermap_input.std()\n",
    "clustermap_input = clustermap_input.sort_values(by='PCNA_488', ascending=False)\n",
    "\n",
    "# zero-center colorbar\n",
    "norm = TwoSlopeNorm(vcenter=0, vmin=clustermap_input.min().min(), vmax=clustermap_input.max().max())\n",
    "\n",
    "clustermap_object = sns.heatmap(\n",
    "        clustermap_input, cmap='coolwarm', yticklabels=1, xticklabels=1, square=True,\n",
    "        linewidths=0.1, linecolor='k', cbar=True, norm=norm, annot=True \n",
    "    )\n",
    "\n",
    "clustermap_object.set_xticklabels(\n",
    "    [antibody_abbrs[i.get_text()] for i in clustermap_object.get_xticklabels()], rotation=90\n",
    ")\n",
    "clustermap_object.set_yticklabels(\n",
    "    [i.get_text() for i in clustermap_object.get_yticklabels()], rotation=0\n",
    ")\n",
    "\n",
    "plt.title('Channel z-scores', y=0.995, fontsize=10)\n",
    "clustermap_object.yaxis.set_tick_params(length=0.05, width=0.01)\n",
    "plt.savefig(os.path.join(out, 'channel_z-scores.pdf'), bbox_inches='tight')\n",
    "plt.show()"
   ]
  }
 ],
 "metadata": {
  "kernelspec": {
   "display_name": "Python 3 (ipykernel)",
   "language": "python",
   "name": "python3"
  },
  "language_info": {
   "codemirror_mode": {
    "name": "ipython",
    "version": 3
   },
   "file_extension": ".py",
   "mimetype": "text/x-python",
   "name": "python",
   "nbconvert_exporter": "python",
   "pygments_lexer": "ipython3",
   "version": "3.9.20"
  }
 },
 "nbformat": 4,
 "nbformat_minor": 5
}
