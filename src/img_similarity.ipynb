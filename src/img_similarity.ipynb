{
 "cells": [
  {
   "cell_type": "code",
   "execution_count": 5,
   "id": "a7ee9d2a-2ad2-4b3d-92b8-7b96f4612c45",
   "metadata": {},
   "outputs": [],
   "source": [
    "import os\n",
    "import yaml\n",
    "\n",
    "import numpy as np\n",
    "import pandas as pd\n",
    "\n",
    "import zarr\n",
    "\n",
    "from utils.utility_functions import (\n",
    "    LBP, ORB, FFT, STD, MSE, SSIM, kl_divergence, u_stats, hsd, compare_clusters, plot\n",
    ")"
   ]
  },
  {
   "cell_type": "code",
   "execution_count": 6,
   "id": "a4fe918b-6022-4156-907a-e04fe7fcdfb1",
   "metadata": {},
   "outputs": [],
   "source": [
    "# Specify cluster pairs\n",
    "pairs = [(12, 15)]"
   ]
  },
  {
   "cell_type": "code",
   "execution_count": 7,
   "id": "29e3da4d-1b09-4022-810d-8dae6eab9bb1",
   "metadata": {},
   "outputs": [
    {
     "name": "stdout",
     "output_type": "stream",
     "text": [
      "\n",
      "(12, 15)\n"
     ]
    }
   ],
   "source": [
    "# Paths and input\n",
    "out = os.path.join(os.getcwd(), f'output/img_similarity')\n",
    "if not os.path.exists(out):\n",
    "    os.makedirs(out)\n",
    "\n",
    "# Read single-cell sample for VAE analysis\n",
    "main = pd.read_csv(os.path.join(os.getcwd(), 'input/main.csv'))\n",
    "vae_clusters = main\n",
    "\n",
    "# Read image contrast settings for CRC-097 (defined earlier in CyLinter)\n",
    "if os.path.exists(os.path.join(os.getcwd(), 'input/CRC-097_cylinter_contrast_limits.yml')):\n",
    "    contrast_limits = yaml.safe_load(\n",
    "        open(os.path.join(os.getcwd(), 'input/CRC-097_cylinter_contrast_limits.yml'))\n",
    "    )\n",
    "\n",
    "# Channel mappings in OME-TIFF\n",
    "markers = {\n",
    "    0: 'CD3e', 1: 'CD45RO', 2: 'Keratin', 3: 'aSMA', 4: 'CD4', 5: 'CD45',\n",
    "    6: 'PD1', 7: 'CD20', 8: 'CD68', 9: 'CD8a', 10: 'CD163', 11: 'FOXP3',\n",
    "    12: 'PD-L1', 13: 'ECAD', 14: 'Vimentin', 15: 'CDX2', 16: 'LaminABC',\n",
    "    17: 'Desmin', 18: 'CD31', 19: 'PCNA', 20: 'CollagenIV'\n",
    "}\n",
    "\n",
    "# Read combined training, validation, and test thumbnails\n",
    "root = os.path.join(os.getcwd(), 'input/VAE20/6_latent_space_LD850')\n",
    "combo_dir = os.path.join(root, 'combined_zarr')\n",
    "X_combo = zarr.open(combo_dir)\n",
    "\n",
    "# load data\n",
    "X_combo = X_combo[:]\n",
    "\n",
    "print()\n",
    "for clus_pair in pairs:\n",
    "\n",
    "    print(clus_pair)\n",
    "\n",
    "    combo_name = f'{clus_pair[0]}v{clus_pair[1]}'\n",
    "\n",
    "    save_dir = os.path.join(out, combo_name)\n",
    "    if not os.path.exists(save_dir):\n",
    "        os.makedirs(save_dir)\n",
    "\n",
    "    # Get positional indices of clustering cells (aligned with X_combo)\n",
    "    clus1 = vae_clusters.index[vae_clusters['VAE20'] == clus_pair[0]]\n",
    "    clus2 = vae_clusters.index[vae_clusters['VAE20'] == clus_pair[1]]\n",
    "\n",
    "    # Apply cutoff on median pixel intensity among image channels to determine\n",
    "    # which markers are expressed by cells in both clusters\n",
    "    # also assigns X-axis index for plotting\n",
    "    expressed_channels = {}\n",
    "    idx = 0\n",
    "    for ch in range(X_combo.shape[0]):\n",
    "        imgs1 = X_combo[ch, clus1]\n",
    "        imgs2 = X_combo[ch, clus2]\n",
    "        if (np.median(imgs1) > 0) and (np.median(imgs2) > 0):\n",
    "            expressed_channels[ch] = (markers[ch], idx)\n",
    "            idx += 1\n",
    "\n",
    "    # Select number of images from the larger cluster equal to smaller cluster\n",
    "    # sample_size = min(len(clus1), len(clus2))\n",
    "    # clus1 = clus1[0:sample_size]\n",
    "    # clus2 = clus2[0:sample_size]\n",
    "\n",
    "    clus1 = clus1[0:500]\n",
    "    clus2 = clus2[0:500]"
   ]
  },
  {
   "cell_type": "code",
   "execution_count": 8,
   "id": "f8fecd21-e2eb-4f5e-8b42-549c8bfabd8c",
   "metadata": {},
   "outputs": [
    {
     "ename": "TypeError",
     "evalue": "compare_clusters() missing 1 required positional argument: 'window_size'",
     "output_type": "error",
     "traceback": [
      "\u001b[0;31m---------------------------------------------------------------------------\u001b[0m",
      "\u001b[0;31mTypeError\u001b[0m                                 Traceback (most recent call last)",
      "Cell \u001b[0;32mIn[8], line 5\u001b[0m\n\u001b[1;32m      1\u001b[0m expressed_channels \u001b[38;5;241m=\u001b[39m {\u001b[38;5;241m0\u001b[39m: (\u001b[38;5;124m'\u001b[39m\u001b[38;5;124mCD3e\u001b[39m\u001b[38;5;124m'\u001b[39m, \u001b[38;5;241m0\u001b[39m), \u001b[38;5;241m5\u001b[39m: (\u001b[38;5;124m'\u001b[39m\u001b[38;5;124mCD45\u001b[39m\u001b[38;5;124m'\u001b[39m, \u001b[38;5;241m1\u001b[39m), \u001b[38;5;241m9\u001b[39m: (\u001b[38;5;124m'\u001b[39m\u001b[38;5;124mCD8a\u001b[39m\u001b[38;5;124m'\u001b[39m, \u001b[38;5;241m2\u001b[39m), \u001b[38;5;241m19\u001b[39m: (\u001b[38;5;124m'\u001b[39m\u001b[38;5;124mPCNA\u001b[39m\u001b[38;5;124m'\u001b[39m, \u001b[38;5;241m3\u001b[39m)}\n\u001b[1;32m      3\u001b[0m \u001b[38;5;28;01mfor\u001b[39;00m color, metric \u001b[38;5;129;01min\u001b[39;00m \u001b[38;5;28mzip\u001b[39m([\u001b[38;5;124m'\u001b[39m\u001b[38;5;124mcornflowerblue\u001b[39m\u001b[38;5;124m'\u001b[39m], [\u001b[38;5;124m'\u001b[39m\u001b[38;5;124mMSE\u001b[39m\u001b[38;5;124m'\u001b[39m]):\n\u001b[0;32m----> 5\u001b[0m     df, cluster_select, sq_err \u001b[38;5;241m=\u001b[39m \u001b[43mcompare_clusters\u001b[49m\u001b[43m(\u001b[49m\n\u001b[1;32m      6\u001b[0m \u001b[43m        \u001b[49m\u001b[43mclus1_name\u001b[49m\u001b[38;5;241;43m=\u001b[39;49m\u001b[43mclus_pair\u001b[49m\u001b[43m[\u001b[49m\u001b[38;5;241;43m0\u001b[39;49m\u001b[43m]\u001b[49m\u001b[43m,\u001b[49m\u001b[43m \u001b[49m\u001b[43mclus1\u001b[49m\u001b[38;5;241;43m=\u001b[39;49m\u001b[43mclus1\u001b[49m\u001b[43m,\u001b[49m\n\u001b[1;32m      7\u001b[0m \u001b[43m        \u001b[49m\u001b[43mclus2_name\u001b[49m\u001b[38;5;241;43m=\u001b[39;49m\u001b[43mclus_pair\u001b[49m\u001b[43m[\u001b[49m\u001b[38;5;241;43m1\u001b[39;49m\u001b[43m]\u001b[49m\u001b[43m,\u001b[49m\u001b[43m \u001b[49m\u001b[43mclus2\u001b[49m\u001b[38;5;241;43m=\u001b[39;49m\u001b[43mclus2\u001b[49m\u001b[43m,\u001b[49m\n\u001b[1;32m      8\u001b[0m \u001b[43m        \u001b[49m\u001b[43mmetric\u001b[49m\u001b[38;5;241;43m=\u001b[39;49m\u001b[43mmetric\u001b[49m\u001b[43m,\u001b[49m\u001b[43m \u001b[49m\u001b[43mexpressed_channels\u001b[49m\u001b[38;5;241;43m=\u001b[39;49m\u001b[43mexpressed_channels\u001b[49m\u001b[43m,\u001b[49m\n\u001b[1;32m      9\u001b[0m \u001b[43m        \u001b[49m\u001b[43mmarkers\u001b[49m\u001b[38;5;241;43m=\u001b[39;49m\u001b[43mmarkers\u001b[49m\u001b[43m,\u001b[49m\u001b[43m \u001b[49m\u001b[43mX_combo\u001b[49m\u001b[38;5;241;43m=\u001b[39;49m\u001b[43mX_combo\u001b[49m\u001b[43m,\u001b[49m\u001b[43m \u001b[49m\u001b[43mcombo_name\u001b[49m\u001b[38;5;241;43m=\u001b[39;49m\u001b[43mcombo_name\u001b[49m\u001b[43m,\u001b[49m\n\u001b[1;32m     10\u001b[0m \u001b[43m        \u001b[49m\u001b[43msave_dir\u001b[49m\u001b[38;5;241;43m=\u001b[39;49m\u001b[43msave_dir\u001b[49m\n\u001b[1;32m     11\u001b[0m \u001b[43m    \u001b[49m\u001b[43m)\u001b[49m\n\u001b[1;32m     13\u001b[0m     \u001b[38;5;66;03m# Save dataframe with metric values\u001b[39;00m\n\u001b[1;32m     14\u001b[0m     df\u001b[38;5;241m.\u001b[39mreset_index(drop\u001b[38;5;241m=\u001b[39m\u001b[38;5;28;01mTrue\u001b[39;00m, inplace\u001b[38;5;241m=\u001b[39m\u001b[38;5;28;01mTrue\u001b[39;00m)\n",
      "\u001b[0;31mTypeError\u001b[0m: compare_clusters() missing 1 required positional argument: 'window_size'"
     ]
    }
   ],
   "source": [
    "expressed_channels = {0: ('CD3e', 0), 5: ('CD45', 1), 9: ('CD8a', 2), 19: ('PCNA', 3)}\n",
    "\n",
    "for color, metric in zip(['cornflowerblue'], ['MSE']):\n",
    "\n",
    "    df, cluster_select, sq_err = compare_clusters(\n",
    "        clus1_name=clus_pair[0], clus1=clus1,\n",
    "        clus2_name=clus_pair[1], clus2=clus2,\n",
    "        metric=metric, expressed_channels=expressed_channels,\n",
    "        markers=markers, X_combo=X_combo, combo_name=combo_name,\n",
    "        save_dir=save_dir\n",
    "    )\n",
    "\n",
    "    # Save dataframe with metric values\n",
    "    df.reset_index(drop=True, inplace=True)\n",
    "    df.to_csv(os.path.join(save_dir, f'{metric}.csv'), index=False)\n",
    "\n",
    "    # Create dataframe of stored t-test stats\n",
    "    stats = u_stats(\n",
    "        df=df, metric=metric, cluster_select=cluster_select,\n",
    "        expressed_channels=expressed_channels, markers=markers,\n",
    "        combo_name=combo_name\n",
    "    )\n",
    "\n",
    "    # Compute one-way ANOVA and Tukey HSD stats\n",
    "    # hsds = hsd(df=df, metric=metric)\n",
    "\n",
    "    # Plot metric data\n",
    "    plot(\n",
    "        df=df, metric=metric, stats=stats, color=color, sq_err=sq_err,\n",
    "        combo_name=combo_name, clus_pair=clus_pair, save_dir=save_dir\n",
    "    )"
   ]
  },
  {
   "cell_type": "code",
   "execution_count": null,
   "id": "699dc675-a3fa-48ec-a101-ff4725d1fc70",
   "metadata": {},
   "outputs": [],
   "source": []
  }
 ],
 "metadata": {
  "kernelspec": {
   "display_name": "Python 3 (ipykernel)",
   "language": "python",
   "name": "python3"
  },
  "language_info": {
   "codemirror_mode": {
    "name": "ipython",
    "version": 3
   },
   "file_extension": ".py",
   "mimetype": "text/x-python",
   "name": "python",
   "nbconvert_exporter": "python",
   "pygments_lexer": "ipython3",
   "version": "3.9.16"
  }
 },
 "nbformat": 4,
 "nbformat_minor": 5
}
