{
 "cells": [
  {
   "cell_type": "code",
   "execution_count": 1,
   "id": "0d15b9a8-1718-435c-8c48-ac8fe43a50d2",
   "metadata": {},
   "outputs": [],
   "source": [
    "import os\n",
    "import re\n",
    "import glob\n",
    "import yaml\n",
    "\n",
    "import numpy as np\n",
    "import pandas as pd\n",
    "\n",
    "import seaborn as sns\n",
    "from matplotlib import cm\n",
    "import matplotlib.pyplot as plt\n",
    "\n",
    "from math import ceil\n",
    "\n",
    "import tifffile\n",
    "\n",
    "import zarr\n",
    "import napari\n",
    "import dask.array as da\n",
    "\n",
    "from utils.utility_functions import single_channel_pyramid"
   ]
  },
  {
   "cell_type": "code",
   "execution_count": 2,
   "id": "1b145e4c-cc32-45e6-9b56-5550fa3963f9",
   "metadata": {},
   "outputs": [],
   "source": [
    "out = os.path.join(os.getcwd(), 'output/VAE20-35_Leiden_percentages')\n",
    "if not os.path.exists(out):\n",
    "    os.makedirs(out)\n",
    "\n",
    "sample_name = 'WD-76845-097'\n",
    "\n",
    "cylinter_input_path = '/Volumes/T7 Shield/cylinter_input/sardana-097/'\n",
    "\n",
    "tif_path = os.path.join(cylinter_input_path, f'tif/{sample_name}.ome.tif')\n",
    "seg_path = os.path.join(cylinter_input_path, f'seg/{sample_name}.ome.tif')\n",
    "he_path = os.path.join(cylinter_input_path, 'hema_eosin.ome.tif')\n",
    "\n",
    "# Read single-cell sample for VAE analysis\n",
    "main = pd.read_csv(os.path.join(os.getcwd(), 'input/main.csv'))\n",
    "\n",
    "# Get list of markers that were excluded from analysis\n",
    "cylinter_config_path = '/Volumes/T7 Shield/cylinter_input/clean_quant/config.yml'\n",
    "with open(cylinter_config_path) as f:\n",
    "    config = yaml.safe_load(f)\n",
    "markers_to_exclude = config['markersToExclude']\n",
    "\n",
    "# Import markers.csv\n",
    "markers_path = '/Volumes/T7 Shield/cylinter_input/clean_quant/markers.csv'\n",
    "markers = pd.read_csv(markers_path)\n",
    "\n",
    "# Get name of first DNA channel\n",
    "dna1 = markers['marker_name'][markers['channel_number'] == 1][0]\n",
    "dna_moniker = str(re.search(r'[^\\W\\d]+', dna1).group())\n",
    "\n",
    "# Import image contrast settings\n",
    "image_contrast_path = (\n",
    "    '/Volumes/T7 Shield/cylinter_input/clean_quant/output_3d_v2/contrast/contrast_limits.yml'\n",
    ")\n",
    "with open(image_contrast_path) as f:\n",
    "    contrast_limits = yaml.safe_load(f)\n",
    "\n",
    "# The parquet file at the path below is being read because \"main.csv\" \n",
    "# uses trimmed marker channel names as column headers that differ from the raw channel names used \n",
    "# in the markers.csv file used to index channels in the OME-TIFF image.\n",
    "for_channels_path = (\n",
    "    '/Volumes/T7 Shield/cylinter_input/clean_quant/output_3d_v2/leiden_clustering.parquet'\n",
    ") \n",
    "for_channels = pd.read_parquet(for_channels_path)\n",
    "\n",
    "# isolate antibodies of interest\n",
    "abx_channels = [\n",
    "    i for i in for_channels.columns if 'nucleiRingMask' in i if 'Hoechst' not in i\n",
    "    if i not in markers_to_exclude\n",
    "]"
   ]
  },
  {
   "cell_type": "code",
   "execution_count": 3,
   "id": "f0108290-4abb-4319-8b36-f13ee8320abf",
   "metadata": {},
   "outputs": [
    {
     "name": "stdout",
     "output_type": "stream",
     "text": [
      "Leiden\n",
      "0      0.001584\n",
      "1      0.003168\n",
      "18     0.004752\n",
      "2      0.007920\n",
      "17     0.044353\n",
      "8      0.058609\n",
      "10     0.153651\n",
      "12     0.369080\n",
      "16     0.698559\n",
      "4      1.709172\n",
      "9      3.708221\n",
      "11     4.853477\n",
      "13     8.034215\n",
      "15     9.440836\n",
      "6      9.794076\n",
      "5     10.198004\n",
      "3     21.707588\n",
      "7     29.212736\n",
      "dtype: float64\n"
     ]
    }
   ],
   "source": [
    "# Isolate cluster V20-35\n",
    "vae35 = main[main['VAE20'] == 35]\n",
    "vae35.groupby('Leiden').size()\n",
    "plot_input = (vae35.groupby('Leiden').size() / len(vae35) * 100).sort_values(ascending=True)\n",
    "print(plot_input)"
   ]
  },
  {
   "cell_type": "code",
   "execution_count": 41,
   "id": "9e3e74f7-bfb3-48be-91e3-6b735360304e",
   "metadata": {},
   "outputs": [
    {
     "data": {
      "image/png": "[encoded data removed]",
      "text/plain": [
       "<Figure size 200x500 with 1 Axes>"
      ]
     },
     "metadata": {},
     "output_type": "display_data"
    }
   ],
   "source": [
    "# Plot stacked barchart\n",
    "plt.rcParams['font.family'] = 'Arial'\n",
    "sns.set_style('whitegrid')\n",
    "fig, ax = plt.subplots(figsize=(2, 5))\n",
    "\n",
    "num_colors = len(list(cm.tab10.colors))\n",
    "num_clusters = len(plot_input.index.unique())\n",
    "palette_multiplier = ceil(num_clusters / num_colors)\n",
    "colors = list(cm.tab10.colors) * palette_multiplier\n",
    "colors = colors[0:num_clusters]\n",
    "colors.reverse()\n",
    "\n",
    "pd.DataFrame(plot_input).T.plot.bar(stacked=True, ax=ax, lw=0.0, color=colors)\n",
    "handles, labels = ax.get_legend_handles_labels()\n",
    "ax.legend(\n",
    "    handles[::-1], labels[::-1], title='Leiden cluster',\n",
    "    loc='upper right', fontsize=9, bbox_to_anchor=(1.8, 1)\n",
    ")\n",
    "plt.ylabel('% V20-35 cells')\n",
    "ax.set(xticklabels=[])\n",
    "ax.xaxis.grid(False)\n",
    "\n",
    "plt.savefig(os.path.join(out, 'V20-35_Leiden_percentages.pdf'), bbox_inches='tight')\n",
    "plt.show()\n",
    "plt.close('all')"
   ]
  },
  {
   "cell_type": "code",
   "execution_count": 31,
   "id": "e10a6c5a-bb54-422a-8dca-169cc6ac11e9",
   "metadata": {},
   "outputs": [],
   "source": [
    "# Show cluster 35 in Napari\n",
    "data = vae35[vae35['Leiden'].isin([7, 3, 5, 6, 15, 13, 11])]"
   ]
  },
  {
   "cell_type": "code",
   "execution_count": 6,
   "id": "40df874c-06d2-4f0a-8b0a-bf1fb7458ca8",
   "metadata": {},
   "outputs": [],
   "source": [
    "# Add H&E image to Napari viewer as separate RGB channels\n",
    "for color, channel in zip(['red', 'green', 'blue'], [0, 1, 2]):\n",
    "\n",
    "    img, min, max = single_channel_pyramid(glob.glob(he_path)[0], channel=channel)\n",
    "\n",
    "    if channel == 0:\n",
    "        viewer = napari.view_image(\n",
    "            img, rgb=False, colormap=color, blending='additive',\n",
    "            visible=False, name=f'H&E_{color}', contrast_limits=(min, max)\n",
    "        )\n",
    "    else:\n",
    "        viewer.add_image(\n",
    "            img, rgb=False, colormap=color, blending='additive',\n",
    "            visible=False, name=f'H&E_{color}', contrast_limits=(min, max)\n",
    "        )\n",
    "\n",
    "# add H&E image to Napari viewer as a single channel image\n",
    "# from lazy_ops import DatasetView\n",
    "# tiff = tifffile.TiffFile(he_path, is_ome=False)\n",
    "# pyramid = [\n",
    "#     zarr.open(tiff.series[0].levels[0].aszarr())[i] for i in\n",
    "#     list(range(len(tiff.series[0].levels)))\n",
    "#     ]\n",
    "# pyramid = [DatasetView(i).lazy_transpose([1, 2, 0]) for i in pyramid]\n",
    "# pyramid = [da.from_zarr(z) for z in pyramid]\n",
    "#\n",
    "# viewer = napari.view_image(pyramid, rgb=True, name='H&E')"
   ]
  },
  {
   "cell_type": "code",
   "execution_count": 7,
   "id": "6d75a24a-4694-4a7d-bab4-3e82f9caac4d",
   "metadata": {},
   "outputs": [
    {
     "data": {
      "text/plain": [
       "<Image layer 'DNA1' at 0x148e1c3a0>"
      ]
     },
     "execution_count": 7,
     "metadata": {},
     "output_type": "execute_result"
    }
   ],
   "source": [
    "# Add DNA1 channel to Napari image viewer\n",
    "dna, min, max = single_channel_pyramid(glob.glob(tif_path)[0], channel=0)\n",
    "viewer.add_image(\n",
    "    dna, rgb=False, blending='additive', colormap='gray', visible=True,\n",
    "    opacity=0.75, name='DNA1', contrast_limits=(min, max)\n",
    ")"
   ]
  },
  {
   "cell_type": "code",
   "execution_count": 8,
   "id": "6b893814-0e00-4f6a-837b-08fc2363292c",
   "metadata": {},
   "outputs": [],
   "source": [
    "# Add marker channels and apply previously defined contrast limits\n",
    "for ch in abx_channels:\n",
    "    ch = ch.rsplit('_', 1)[0]\n",
    "    channel_number = markers['channel_number'][markers['marker_name'] == ch]\n",
    "    img, min, max = single_channel_pyramid(glob.glob(tif_path)[0], channel=(channel_number.item() - 1)\n",
    "    )\n",
    "    viewer.add_image(\n",
    "        img, rgb=False, blending='additive', colormap='green', visible=False, name=ch,\n",
    "        contrast_limits=(min, max)\n",
    "    )\n",
    "for ch in abx_channels:\n",
    "    ch = ch.rsplit('_', 1)[0]\n",
    "    viewer.layers[ch].contrast_limits = (\n",
    "        contrast_limits[ch][0], contrast_limits[ch][1])"
   ]
  },
  {
   "cell_type": "code",
   "execution_count": 9,
   "id": "3e25656b-8a9c-4a96-b038-d885fce9000f",
   "metadata": {},
   "outputs": [],
   "source": [
    "# Add centroids of cells for Leiden cluster 35\n",
    "num_colors = len(list(cm.tab10.colors))\n",
    "num_clusters = len(data['Leiden'].unique())\n",
    "palette_multiplier = ceil(num_clusters / num_colors)\n",
    "colors = list(cm.tab10.colors) * palette_multiplier\n",
    "colors = colors[0:num_clusters]\n",
    "colors.reverse()\n",
    "\n",
    "for c, cluster in zip(\n",
    "        colors, data.groupby('Leiden').size().sort_values().index):\n",
    "    centroids = data[['Y_centroid', 'X_centroid']][data['Leiden'] == cluster]\n",
    "    viewer.add_points(\n",
    "        centroids, name=f'L{cluster}', face_color=np.array(c), edge_color='white',\n",
    "        edge_width=0.0, size=80.0, opacity=1.0, blending='translucent', visible=False\n",
    "    )"
   ]
  },
  {
   "cell_type": "code",
   "execution_count": 10,
   "id": "f20fb3d1-171c-4005-ab5a-46ef91d7e6b5",
   "metadata": {},
   "outputs": [
    {
     "data": {
      "text/plain": [
       "<Image layer 'segmentation' at 0x164868a60>"
      ]
     },
     "execution_count": 10,
     "metadata": {},
     "output_type": "execute_result"
    }
   ],
   "source": [
    "# Read segmentation outlines\n",
    "seg, min, max = single_channel_pyramid(glob.glob(seg_path)[0], channel=0)\n",
    "viewer.add_image(\n",
    "    seg, rgb=False, blending='additive', colormap='gray', visible=False,\n",
    "    name='segmentation', opacity=0.3, contrast_limits=(min, max)\n",
    ")"
   ]
  },
  {
   "cell_type": "code",
   "execution_count": 11,
   "id": "6d138e84-dbbd-473e-8c0f-952c20641cc8",
   "metadata": {},
   "outputs": [],
   "source": [
    "# Run Napari image viewer\n",
    "viewer.scale_bar.visible = True\n",
    "viewer.scale_bar.unit = 'um'\n",
    "\n",
    "napari.run()"
   ]
  }
 ],
 "metadata": {
  "kernelspec": {
   "display_name": "Python 3 (ipykernel)",
   "language": "python",
   "name": "python3"
  },
  "language_info": {
   "codemirror_mode": {
    "name": "ipython",
    "version": 3
   },
   "file_extension": ".py",
   "mimetype": "text/x-python",
   "name": "python",
   "nbconvert_exporter": "python",
   "pygments_lexer": "ipython3",
   "version": "3.9.16"
  }
 },
 "nbformat": 4,
 "nbformat_minor": 5
}
