{
 "cells": [
  {
   "cell_type": "code",
   "execution_count": 1,
   "id": "3d8dc360-4a67-44c5-8a83-c66dc1b5683e",
   "metadata": {},
   "outputs": [],
   "source": [
    "import os\n",
    "import pandas as pd\n",
    "from math import ceil\n",
    "from matplotlib import cm\n",
    "import matplotlib.pyplot as plt"
   ]
  },
  {
   "cell_type": "code",
   "execution_count": 2,
   "id": "4775e557-dd9f-44f9-ab7d-4637dd159a57",
   "metadata": {},
   "outputs": [],
   "source": [
    "# I/O\n",
    "main = pd.read_csv(os.path.join(os.getcwd(), 'input/main.csv'))\n",
    "\n",
    "out = os.path.join(os.getcwd(), 'output/VAE20_UMAP_colored_by_VAE9')\n",
    "if not os.path.exists(out):\n",
    "    os.makedirs(out)"
   ]
  },
  {
   "cell_type": "code",
   "execution_count": 3,
   "id": "71736d54-29e7-4487-bae3-19b28dd144a5",
   "metadata": {},
   "outputs": [
    {
     "name": "stdout",
     "output_type": "stream",
     "text": [
      "--Return--\n",
      "None\n",
      "> \u001b[0;32m/var/folders/_h/pbzrx8ss6n5f031pf4hc97_w0000gp/T/ipykernel_89339/2554773765.py\u001b[0m(9)\u001b[0;36m<module>\u001b[0;34m()\u001b[0m\n",
      "\u001b[0;32m      7 \u001b[0;31m\u001b[0mcolor_dict\u001b[0m \u001b[0;34m=\u001b[0m \u001b[0mdict\u001b[0m\u001b[0;34m(\u001b[0m\u001b[0mzip\u001b[0m\u001b[0;34m(\u001b[0m\u001b[0msorted\u001b[0m\u001b[0;34m(\u001b[0m\u001b[0mmain\u001b[0m\u001b[0;34m[\u001b[0m\u001b[0;34m'VAE9_ROT_VIG18'\u001b[0m\u001b[0;34m]\u001b[0m\u001b[0;34m.\u001b[0m\u001b[0munique\u001b[0m\u001b[0;34m(\u001b[0m\u001b[0;34m)\u001b[0m\u001b[0;34m)\u001b[0m\u001b[0;34m,\u001b[0m \u001b[0mcolors\u001b[0m\u001b[0;34m)\u001b[0m\u001b[0;34m)\u001b[0m\u001b[0;34m\u001b[0m\u001b[0;34m\u001b[0m\u001b[0m\n",
      "\u001b[0m\u001b[0;32m      8 \u001b[0;31m\u001b[0mcmap\u001b[0m \u001b[0;34m=\u001b[0m \u001b[0;34m[\u001b[0m\u001b[0mcolor_dict\u001b[0m\u001b[0;34m[\u001b[0m\u001b[0mi\u001b[0m\u001b[0;34m]\u001b[0m \u001b[0;32mfor\u001b[0m \u001b[0mi\u001b[0m \u001b[0;32min\u001b[0m \u001b[0mmain\u001b[0m\u001b[0;34m[\u001b[0m\u001b[0;34m'VAE9_ROT_VIG18'\u001b[0m\u001b[0;34m]\u001b[0m\u001b[0;34m]\u001b[0m\u001b[0;34m\u001b[0m\u001b[0;34m\u001b[0m\u001b[0m\n",
      "\u001b[0m\u001b[0;32m----> 9 \u001b[0;31m\u001b[0;32mimport\u001b[0m \u001b[0mpdb\u001b[0m\u001b[0;34m;\u001b[0m \u001b[0mpdb\u001b[0m\u001b[0;34m.\u001b[0m\u001b[0mset_trace\u001b[0m\u001b[0;34m(\u001b[0m\u001b[0;34m)\u001b[0m\u001b[0;34m\u001b[0m\u001b[0;34m\u001b[0m\u001b[0m\n",
      "\u001b[0m\u001b[0;32m     10 \u001b[0;31m\u001b[0mfig\u001b[0m \u001b[0;34m=\u001b[0m \u001b[0mplt\u001b[0m\u001b[0;34m.\u001b[0m\u001b[0mfigure\u001b[0m\u001b[0;34m(\u001b[0m\u001b[0;34m)\u001b[0m\u001b[0;34m\u001b[0m\u001b[0;34m\u001b[0m\u001b[0m\n",
      "\u001b[0m\u001b[0;32m     11 \u001b[0;31m\u001b[0max\u001b[0m \u001b[0;34m=\u001b[0m \u001b[0mplt\u001b[0m\u001b[0;34m.\u001b[0m\u001b[0maxes\u001b[0m\u001b[0;34m(\u001b[0m\u001b[0mprojection\u001b[0m\u001b[0;34m=\u001b[0m\u001b[0;34m'3d'\u001b[0m\u001b[0;34m,\u001b[0m \u001b[0mcomputed_zorder\u001b[0m\u001b[0;34m=\u001b[0m\u001b[0;32mFalse\u001b[0m\u001b[0;34m)\u001b[0m\u001b[0;34m\u001b[0m\u001b[0;34m\u001b[0m\u001b[0m\n",
      "\u001b[0m\n"
     ]
    },
    {
     "name": "stdin",
     "output_type": "stream",
     "text": [
      "ipdb>  cmap\n"
     ]
    },
    {
     "name": "stderr",
     "output_type": "stream",
     "text": [
      "IOPub data rate exceeded.\n",
      "The Jupyter server will temporarily stop sending output\n",
      "to the client in order to avoid crashing it.\n",
      "To change this limit, set the config variable\n",
      "`--ServerApp.iopub_data_rate_limit`.\n",
      "\n",
      "Current values:\n",
      "ServerApp.iopub_data_rate_limit=1000000.0 (bytes/sec)\n",
      "ServerApp.rate_limit_window=3.0 (secs)\n",
      "\n"
     ]
    },
    {
     "name": "stdin",
     "output_type": "stream",
     "text": [
      "ipdb>  cmap.keys()\n"
     ]
    },
    {
     "name": "stdout",
     "output_type": "stream",
     "text": [
      "*** AttributeError: 'list' object has no attribute 'keys'\n"
     ]
    },
    {
     "name": "stdin",
     "output_type": "stream",
     "text": [
      "ipdb>  cmap[0]\n"
     ]
    },
    {
     "name": "stdout",
     "output_type": "stream",
     "text": [
      "(0.7725490196078432, 0.6901960784313725, 0.8352941176470589)\n"
     ]
    },
    {
     "name": "stdin",
     "output_type": "stream",
     "text": [
      "ipdb>  color_dict\n"
     ]
    },
    {
     "name": "stdout",
     "output_type": "stream",
     "text": [
      "{0: (0.12156862745098039, 0.4666666666666667, 0.7058823529411765), 1: (0.6823529411764706, 0.7803921568627451, 0.9098039215686274), 2: (1.0, 0.4980392156862745, 0.054901960784313725), 3: (1.0, 0.7333333333333333, 0.47058823529411764), 4: (0.17254901960784313, 0.6274509803921569, 0.17254901960784313), 5: (0.596078431372549, 0.8745098039215686, 0.5411764705882353), 6: (0.8392156862745098, 0.15294117647058825, 0.1568627450980392), 7: (1.0, 0.596078431372549, 0.5882352941176471), 8: (0.5803921568627451, 0.403921568627451, 0.7411764705882353), 9: (0.7725490196078432, 0.6901960784313725, 0.8352941176470589), 10: (0.5490196078431373, 0.33725490196078434, 0.29411764705882354), 11: (0.7686274509803922, 0.611764705882353, 0.5803921568627451), 12: (0.8901960784313725, 0.4666666666666667, 0.7607843137254902), 13: (0.9686274509803922, 0.7137254901960784, 0.8235294117647058), 14: (0.4980392156862745, 0.4980392156862745, 0.4980392156862745), 15: (0.7803921568627451, 0.7803921568627451, 0.7803921568627451), 16: (0.7372549019607844, 0.7411764705882353, 0.13333333333333333), 17: (0.8588235294117647, 0.8588235294117647, 0.5529411764705883), 18: (0.09019607843137255, 0.7450980392156863, 0.8117647058823529), 19: (0.6196078431372549, 0.8549019607843137, 0.8980392156862745), 20: (0.12156862745098039, 0.4666666666666667, 0.7058823529411765), 21: (0.6823529411764706, 0.7803921568627451, 0.9098039215686274), 22: (1.0, 0.4980392156862745, 0.054901960784313725), 23: (1.0, 0.7333333333333333, 0.47058823529411764), 24: (0.17254901960784313, 0.6274509803921569, 0.17254901960784313), 25: (0.596078431372549, 0.8745098039215686, 0.5411764705882353), 26: (0.8392156862745098, 0.15294117647058825, 0.1568627450980392), 27: (1.0, 0.596078431372549, 0.5882352941176471), 28: (0.5803921568627451, 0.403921568627451, 0.7411764705882353), 29: (0.7725490196078432, 0.6901960784313725, 0.8352941176470589), 30: (0.5490196078431373, 0.33725490196078434, 0.29411764705882354), 31: (0.7686274509803922, 0.611764705882353, 0.5803921568627451)}\n"
     ]
    },
    {
     "name": "stdin",
     "output_type": "stream",
     "text": [
      "ipdb>  exit\n"
     ]
    }
   ],
   "source": [
    "# VAE20 (contexts) UMAP colored by VAE9 (cell states) colors\n",
    "num_colors = len(list(cm.tab20.colors))\n",
    "num_clusters = len(main['VAE9_ROT_VIG18'].unique())\n",
    "palette_multiplier = ceil(num_clusters / num_colors)\n",
    "colors = list(cm.tab20.colors) * palette_multiplier\n",
    "colors = colors[0:num_clusters]\n",
    "color_dict = dict(zip(sorted(main['VAE9_ROT_VIG18'].unique()), colors))\n",
    "cmap = [color_dict[i] for i in main['VAE9_ROT_VIG18']]\n",
    "import pdb; pdb.set_trace()\n",
    "fig = plt.figure()\n",
    "ax = plt.axes(projection='3d', computed_zorder=False)\n",
    "ax.view_init(elev=10, azim=360)\n",
    "    \n",
    "ax.scatter(\n",
    "    main['VAE20_emb_3d_1'],\n",
    "    main['VAE20_emb_3d_2'],\n",
    "    main['VAE20_emb_3d_3'],\n",
    "    c=cmap, linewidth=0.1,\n",
    "    s=150000 / len(main), alpha=0.1\n",
    ")\n",
    "\n",
    "ax.axis('auto')\n",
    "ax.tick_params(labelsize=10)\n",
    "ax.grid(True)\n",
    "\n",
    "plt.tight_layout()\n",
    "plt.savefig(os.path.join(out, 'UMAP20_by_VAE9.png'), dpi=800, bbox_inches='tight')\n",
    "print('VAE20 (contexts) UMAP colored by VAE9 (cell state) labels')\n",
    "plt.show()\n",
    "plt.close('all')"
   ]
  }
 ],
 "metadata": {
  "kernelspec": {
   "display_name": "Python 3 (ipykernel)",
   "language": "python",
   "name": "python3"
  },
  "language_info": {
   "codemirror_mode": {
    "name": "ipython",
    "version": 3
   },
   "file_extension": ".py",
   "mimetype": "text/x-python",
   "name": "python",
   "nbconvert_exporter": "python",
   "pygments_lexer": "ipython3",
   "version": "3.9.16"
  }
 },
 "nbformat": 4,
 "nbformat_minor": 5
}
