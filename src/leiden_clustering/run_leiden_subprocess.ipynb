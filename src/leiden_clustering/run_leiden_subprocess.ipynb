{
 "cells": [
  {
   "cell_type": "code",
   "execution_count": 1,
   "id": "e2c8830e-66d2-4e99-a283-9b22e3166598",
   "metadata": {},
   "outputs": [],
   "source": [
    "# docker software and the docker image for labsyspharm/mc-scanpy\n",
    "# must be installed for this script to run\n",
    "\n",
    "# this script has been validated to run using a container memory allocation of 32GB\n",
    "# change this parameter in docker by going to docker > settings > resources"
   ]
  },
  {
   "cell_type": "code",
   "execution_count": 2,
   "id": "effe6547-0a76-40e7-840d-5c846cfd74f3",
   "metadata": {},
   "outputs": [],
   "source": [
    "import os\n",
    "import subprocess"
   ]
  },
  {
   "cell_type": "code",
   "execution_count": 3,
   "id": "e56b7d2c-ea1f-41f6-a413-938b23af4029",
   "metadata": {},
   "outputs": [],
   "source": [
    "# I/O\n",
    "pwd = os.getcwd()\n",
    "\n",
    "# file name of the per cell VAE latent vectors to be stored in\n",
    "# \"{pwd}/leiden_clustering/input/\" prior to running this code\n",
    "input_filename = 'vae_latent_vectors20_nomask.csv'\n",
    "\n",
    "# output directory\n",
    "output_path = os.path.join(pwd, 'output/leiden_clustering')\n",
    "if not os.path.exists(output_path):\n",
    "    os.makedirs(output_path)\n",
    "\n",
    "n_neighbors = 30\n",
    "resolution = 2.5"
   ]
  },
  {
   "cell_type": "code",
   "execution_count": 4,
   "id": "cf967e3d-73de-4298-bc6c-28dd49b395c6",
   "metadata": {},
   "outputs": [
    {
     "name": "stderr",
     "output_type": "stream",
     "text": [
      "... writing an h5ad cache file to speedup reading next time\n",
      "computing neighbors\n",
      "    finished: added to `.uns['neighbors']`\n",
      "    `.obsp['distances']`, distances for each pair of neighbors\n",
      "    `.obsp['connectivities']`, weighted adjacency matrix (0:04:55)\n",
      "running Leiden clustering\n",
      "    finished: found 38 clusters and added\n",
      "    'leiden', the cluster labels (adata.obs, categorical) (0:16:57)\n"
     ]
    },
    {
     "name": "stdout",
     "output_type": "stream",
     "text": [
      "Entering Leiden function...\n",
      "Starting leidenCluster()...\n",
      "/Users/greg/projects/vae-paper/src/output/leiden_clustering/vae_latent_vectors20_nomask-clean.csv\n",
      "Started writing config\n",
      "Finished writing config\n",
      "Finished leiden clustering\n",
      "Writing Patches...\n",
      "Writing Clusters...\n"
     ]
    },
    {
     "data": {
      "text/plain": [
       "0"
      ]
     },
     "execution_count": 4,
     "metadata": {},
     "output_type": "execute_result"
    }
   ],
   "source": [
    "# run Leiden clustering on VAE latent vectors with docker\n",
    "subprocess.call(\n",
    "    ['docker', 'run', '--rm', '-v', f'{pwd}:{pwd}', '-v',\n",
    "     f'{pwd}/leiden_clustering/mcmicro-scanpy/:/app', 'labsyspharm/mc-scanpy:latest', \n",
    "     'python3', '/app/cluster.py', '-i', f'{pwd}/leiden_clustering/input/{input_filename}', \n",
    "     '-k', f'{n_neighbors}', '-r', f'{resolution}', '-o', f'{pwd}/output/leiden_clustering', \n",
    "     '--no-transform']\n",
    ")"
   ]
  }
 ],
 "metadata": {
  "kernelspec": {
   "display_name": "Python 3 (ipykernel)",
   "language": "python",
   "name": "python3"
  },
  "language_info": {
   "codemirror_mode": {
    "name": "ipython",
    "version": 3
   },
   "file_extension": ".py",
   "mimetype": "text/x-python",
   "name": "python",
   "nbconvert_exporter": "python",
   "pygments_lexer": "ipython3",
   "version": "3.9.16"
  }
 },
 "nbformat": 4,
 "nbformat_minor": 5
}
