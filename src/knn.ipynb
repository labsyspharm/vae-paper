{
 "cells": [
  {
   "cell_type": "code",
   "execution_count": 1,
   "id": "801ccf40-f509-495c-870f-e59365530b9e",
   "metadata": {},
   "outputs": [],
   "source": [
    "import os\n",
    "import re\n",
    "import glob\n",
    "import yaml\n",
    "\n",
    "import numpy as np\n",
    "import pandas as pd\n",
    "\n",
    "from math import ceil\n",
    "\n",
    "from matplotlib import cm\n",
    "\n",
    "import zarr\n",
    "import napari\n",
    "import tifffile\n",
    "import dask.array as da\n",
    "\n",
    "from utils.utility_functions import single_channel_pyramid"
   ]
  },
  {
   "cell_type": "code",
   "execution_count": 2,
   "id": "1e44539c-c9df-4338-a0c4-687b1a7666bc",
   "metadata": {},
   "outputs": [],
   "source": [
    "clustering = 'VAE9_ROT_VIG18'"
   ]
  },
  {
   "cell_type": "code",
   "execution_count": 3,
   "id": "10a5d7bb-985d-4c88-8e18-0ec15f0a239e",
   "metadata": {},
   "outputs": [],
   "source": [
    "# I/O\n",
    "sample = 'CRC-097'\n",
    "\n",
    "# read single-cell data\n",
    "main = pd.read_csv(os.path.join(os.getcwd(), 'input/main.csv'))\n",
    "main = main[~main.isnull().any(axis=1)]  # removing cells for which KNN classes were not defined\n",
    "main = main[main[clustering] != -1]  # removing any unclustered cells\n",
    "\n",
    "# read OME-TIFF, segmentation outlines, and H&E channels\n",
    "tif_path = os.path.join(os.getcwd(), f'input/{sample}_image.ome.tif')\n",
    "seg_path = os.path.join(os.getcwd(), f'input/{sample}_seg_outlines.ome.tif')\n",
    "he_path = os.path.join(os.getcwd(), 'input/hema_eosin.ome.tif')\n",
    "\n",
    "# import markers.csv\n",
    "markers = pd.read_csv(os.path.join(os.getcwd(), 'input/CRC-097_mcmicro_markers.csv'))\n",
    "\n",
    "# get markers excluded from analysis\n",
    "with open(os.path.join(os.getcwd(), 'input/CRC-97_cylinter_config.yml')) as f:\n",
    "    config = yaml.safe_load(f)\n",
    "markers_to_exclude = config['markersToExclude']\n",
    "\n",
    "# import image contrast settings\n",
    "with open(os.path.join(os.getcwd(), 'input/CRC-097_cylinter_contrast_limits.yml')) as f:\n",
    "    contrast_limits = yaml.safe_load(f)\n",
    "\n",
    "# The parquet file at the path below is being read because \"main.csv\" \n",
    "# uses trimmed marker channel names as column headers that differ from the raw channel names used \n",
    "# in the markers.csv file, which is itself used to index channels in the OME-TIFF image.\n",
    "for_channels = pd.read_parquet(\n",
    "    os.path.join(os.getcwd(), 'input/CRC-097_clean_cylinter_clustering_3d_leiden.parquet')\n",
    ")\n",
    "\n",
    "# isolate antibodies of interest\n",
    "abx_channels = [\n",
    "    i for i in for_channels.columns if 'nucleiRingMask' in i if\n",
    "    'Hoechst' not in i if i not in markers_to_exclude\n",
    "]\n",
    "\n",
    "# get name of first DNA channel\n",
    "dna1 = markers['marker_name'][markers['channel_number'] == 1][0]\n",
    "dna_moniker = str(re.search(r'[^\\W\\d]+', dna1).group())\n",
    "\n",
    "out = os.path.join(os.getcwd(), f'output/knn/{clustering}')\n",
    "if not os.path.exists(out):\n",
    "    os.makedirs(out)"
   ]
  },
  {
   "cell_type": "code",
   "execution_count": 4,
   "id": "ca59ffd0-c3fc-4efb-a0fc-feecf4f2396f",
   "metadata": {},
   "outputs": [],
   "source": [
    "# assign clusters to KNN classes\n",
    "cluster_class_dict = {}\n",
    "for cluster, group in main.groupby(clustering):\n",
    "\n",
    "    means = []\n",
    "    \n",
    "    for cls in ['Prob_Normal', 'Prob_Glandular', 'Prob_Solid', 'Prob_Mucin']:\n",
    "        means.append(group[cls].mean())\n",
    "    \n",
    "    max_value = np.argmax(means)\n",
    "    \n",
    "    if max_value == 0:\n",
    "        cluster_class_dict[cluster] = ('Normal', means)\n",
    "    elif max_value == 1:\n",
    "        cluster_class_dict[cluster] = ('Glandular', means)\n",
    "    elif max_value == 2:\n",
    "        cluster_class_dict[cluster] = ('Solid', means)\n",
    "    elif max_value == 3:\n",
    "        cluster_class_dict[cluster] = ('Mucinous', means)\n",
    "\n",
    "# convert dict to dataframe and save\n",
    "cluster_class_df = pd.DataFrame.from_dict(cluster_class_dict).T\n",
    "\n",
    "probs = pd.DataFrame(\n",
    "    cluster_class_df[1].to_list(),\n",
    "    columns=['Prob_Normal', 'Prob_Glandular', 'Prob_Solid', 'Prob_Mucin']\n",
    ").astype('float32')\n",
    "cluster_class_df.drop(columns=1, inplace=True)\n",
    "cluster_class_df.reset_index(inplace=True)\n",
    "cluster_class_df = pd.concat([cluster_class_df, probs], axis=1)\n",
    "cluster_class_df.rename(columns={'index': clustering, 0: 'KNN_class'}, inplace=True)\n",
    "\n",
    "# filter cluster_class_df for tumor cell clusters\n",
    "if clustering == 'VAE20_Leiden':\n",
    "    tumor = [\n",
    "        1, 29, 31, 13, 51, 48, 56, 54, 24, 55, 57, 52, 53, 25, 47, 27, 49, 50, 46,\n",
    "        15, 12, 42, 10, 32, 40, 41, 14, 11\n",
    "    ]\n",
    "elif clustering == 'VAE20_ROT_VIG40':\n",
    "    tumor = [1, 3, 4, 5, 10, 13, 18, 22, 8, 27]\n",
    "elif clustering == 'VAE9_ROT_VIG18':\n",
    "    tumor = [3, 5, 6, 9, 10, 11, 14, 15, 19, 20, 28, 31]\n",
    "\n",
    "cluster_class_df = cluster_class_df[cluster_class_df[clustering].isin(tumor)]\n",
    "cluster_class_df.reset_index(drop=True, inplace=True)\n",
    "cluster_class_df.to_csv(os.path.join(out, f'{clustering}_KNN_classes.csv'), index=False)"
   ]
  },
  {
   "cell_type": "code",
   "execution_count": 5,
   "id": "a1d2399f-09b2-4c5b-944f-b707c3afb541",
   "metadata": {},
   "outputs": [],
   "source": [
    "# view KNN probabilities in image viewer\n",
    "\n",
    "# add H&E image (separate RGB channels)\n",
    "for color, channel in zip(['red', 'green', 'blue'], [0, 1, 2]):\n",
    "\n",
    "    img, min, max = single_channel_pyramid(glob.glob(he_path)[0], channel=channel)\n",
    "\n",
    "    if channel == 0:\n",
    "        viewer = napari.view_image(\n",
    "            img, rgb=False, colormap=color, blending='additive',\n",
    "            visible=False, name=f'H&E_{color}'\n",
    "        )\n",
    "    else:\n",
    "        viewer.add_image(\n",
    "            img, rgb=False, colormap=color, blending='additive',\n",
    "            visible=False, name=f'H&E_{color}'\n",
    "        )"
   ]
  },
  {
   "cell_type": "code",
   "execution_count": 6,
   "id": "45f9f3fd-cbc9-46a2-b3a8-512557bf0fa4",
   "metadata": {},
   "outputs": [
    {
     "data": {
      "text/plain": [
       "<Image layer 'DNA1' at 0x1556e9670>"
      ]
     },
     "execution_count": 6,
     "metadata": {},
     "output_type": "execute_result"
    }
   ],
   "source": [
    "# read DNA1 channel\n",
    "dna, min, max = single_channel_pyramid(glob.glob(tif_path)[0], channel=0)\n",
    "\n",
    "# add DNA1 channel to Napari image viewer\n",
    "viewer.add_image(\n",
    "    dna, rgb=False, blending='additive', colormap='gray',\n",
    "    visible=True, opacity=1.0, name='DNA1', contrast_limits=(min, max)\n",
    ")"
   ]
  },
  {
   "cell_type": "code",
   "execution_count": 7,
   "id": "c6f55e99-ecf9-4829-8fc4-24a606f7220c",
   "metadata": {},
   "outputs": [],
   "source": [
    "# loop over antibodies of interest and add to image viewer\n",
    "for ch in abx_channels:\n",
    "    ch = ch.rsplit('_', 1)[0]\n",
    "    channel_number = markers['channel_number'][markers['marker_name'] == ch]\n",
    "    img, min, max = single_channel_pyramid(\n",
    "        glob.glob(tif_path)[0], channel=(channel_number.item() - 1)\n",
    "    )\n",
    "    viewer.add_image(\n",
    "        img, rgb=False, blending='additive', colormap='green', visible=False, name=ch, contrast_limits=(min, max)\n",
    "    )\n",
    "\n",
    "# apply previously defined contrast limits\n",
    "for ch in abx_channels:\n",
    "    ch = ch.rsplit('_', 1)[0]\n",
    "    viewer.layers[ch].contrast_limits = (\n",
    "        contrast_limits[ch][0], contrast_limits[ch][1])"
   ]
  },
  {
   "cell_type": "code",
   "execution_count": 8,
   "id": "b04b360f-7a5b-4ed5-95fb-96fc198d7f3b",
   "metadata": {},
   "outputs": [],
   "source": [
    "# map clusters to color categories and add centroids for tumor clusters to image viewer\n",
    "num_colors = len(list(cm.tab20.colors))\n",
    "num_clusters = len(main[clustering].unique())\n",
    "palette_multiplier = ceil(num_clusters / num_colors)\n",
    "colors = list(cm.tab20.colors) * palette_multiplier\n",
    "colors = colors[0:num_clusters]\n",
    "colors.reverse()\n",
    "\n",
    "color_dict = dict(zip(sorted(main[clustering].unique(), reverse=True), colors))\n",
    "\n",
    "for cls in ['Glandular', 'Solid', 'Mucinous', 'Normal']:\n",
    "\n",
    "    clusters = [k for k, v in cluster_class_dict.items() if v[0] == cls]\n",
    "    clusters = sorted([i for i in clusters if i in tumor], reverse=True)\n",
    "    \n",
    "    for i in clusters:\n",
    "        centroids = main[['Y_centroid', 'X_centroid']][main[clustering] == i]\n",
    "        viewer.add_points(\n",
    "            centroids, name=f'{clustering}_{i}_{cluster_class_dict[i][0]}',\n",
    "            face_color=np.array(color_dict[i]), edge_width=0.0,\n",
    "            size=60.0, opacity=1.0, blending='translucent', visible=False\n",
    "        )"
   ]
  },
  {
   "cell_type": "code",
   "execution_count": 9,
   "id": "96a13c91-7975-4de3-aab2-45d7e48cee0a",
   "metadata": {},
   "outputs": [],
   "source": [
    "# colormap centroids by KNN class posterior probabilities\n",
    "for cls in ['Prob_Mucin', 'Prob_Solid', 'Prob_Glandular', 'Prob_Normal']:\n",
    "\n",
    "    centroids = main[['Y_centroid', 'X_centroid']]\n",
    "    point_properties = {'probability': main[cls]}\n",
    "\n",
    "    viewer.add_points(\n",
    "        centroids, name=cls, properties=point_properties,\n",
    "        face_color='probability', face_colormap='viridis',\n",
    "        edge_width=0.0, size=60.0, opacity=1.0, blending='translucent',\n",
    "        visible=False\n",
    "    )"
   ]
  },
  {
   "cell_type": "code",
   "execution_count": 10,
   "id": "cae18b76-2f9a-4dfc-810f-853bbf44524e",
   "metadata": {},
   "outputs": [
    {
     "data": {
      "text/plain": [
       "<Image layer 'segmentation' at 0x15cdec700>"
      ]
     },
     "execution_count": 10,
     "metadata": {},
     "output_type": "execute_result"
    }
   ],
   "source": [
    "# read segmentation outlines\n",
    "seg, min, max = single_channel_pyramid(glob.glob(seg_path)[0], channel=0)\n",
    "viewer.add_image(\n",
    "    seg, rgb=False, blending='additive', colormap='gray', visible=False, \n",
    "    name='segmentation', opacity=1.0, contrast_limits=(min, max)\n",
    ")"
   ]
  },
  {
   "cell_type": "code",
   "execution_count": 11,
   "id": "b04934eb-4f78-49f2-b972-36a656af9ffa",
   "metadata": {},
   "outputs": [],
   "source": [
    "# run Napari image viewer\n",
    "viewer.scale_bar.visible = True\n",
    "viewer.scale_bar.unit = 'um'\n",
    "\n",
    "napari.run()"
   ]
  }
 ],
 "metadata": {
  "kernelspec": {
   "display_name": "Python 3 (ipykernel)",
   "language": "python",
   "name": "python3"
  },
  "language_info": {
   "codemirror_mode": {
    "name": "ipython",
    "version": 3
   },
   "file_extension": ".py",
   "mimetype": "text/x-python",
   "name": "python",
   "nbconvert_exporter": "python",
   "pygments_lexer": "ipython3",
   "version": "3.12.3"
  }
 },
 "nbformat": 4,
 "nbformat_minor": 5
}
