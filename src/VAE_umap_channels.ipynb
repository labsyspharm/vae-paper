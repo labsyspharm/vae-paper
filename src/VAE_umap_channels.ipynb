{
 "cells": [
  {
   "cell_type": "code",
   "execution_count": null,
   "id": "aa5fb297-384f-48d6-91d3-f52c049327d2",
   "metadata": {},
   "outputs": [],
   "source": [
    "import os\n",
    "import re\n",
    "import yaml\n",
    "\n",
    "import pandas as pd\n",
    "\n",
    "import seaborn as sns\n",
    "import matplotlib.pyplot as plt\n",
    "\n",
    "from PIL import Image\n",
    "from numpy import asarray"
   ]
  },
  {
   "cell_type": "code",
   "execution_count": null,
   "id": "dda1bda3-4949-4733-a7e1-b2b2afe7ef9b",
   "metadata": {},
   "outputs": [],
   "source": [
    "clustering = 'VAE9_ROT_VIG18'"
   ]
  },
  {
   "cell_type": "code",
   "execution_count": null,
   "id": "fef825ea-50f2-4a35-a8a0-afcbe6834877",
   "metadata": {},
   "outputs": [],
   "source": [
    "# Paths and input\n",
    "\n",
    "# Read single-cell sample for VAE analysis\n",
    "main = pd.read_csv(os.path.join(os.getcwd(), 'input/main.csv'))\n",
    "\n",
    "markers = pd.read_csv(os.path.join(os.getcwd(), 'input/CRC-097_mcmicro_markers.csv'))\n",
    "\n",
    "dna1 = markers['marker_name'][markers['channel_number'] == 1][0]\n",
    "dna_moniker = str(re.search(r'[^\\W\\d]+', dna1).group())\n",
    "\n",
    "cylinter_config_path = '/Volumes/T7 Shield/cylinter_input/clean_quant/config.yml'\n",
    "with open(os.path.join(os.getcwd(), 'input/CRC-97_cylinter_config.yml')) as f:\n",
    "    config = yaml.safe_load(f)\n",
    "markers_to_exclude = config['channelExclusionsClustering']\n",
    "\n",
    "abx_channels = [\n",
    "    i for i in main.columns if i in list(markers['marker_name'])\n",
    "    if dna_moniker not in i if i not in markers_to_exclude\n",
    "]\n",
    "\n",
    "out = os.path.join(os.getcwd(), f'output/{clustering}_umap_channels')\n",
    "if not os.path.exists(out):\n",
    "    os.makedirs(out)"
   ]
  },
  {
   "cell_type": "code",
   "execution_count": null,
   "id": "3f7cd64d-9df8-45c3-8cd0-731f6288cce1",
   "metadata": {},
   "outputs": [],
   "source": [
    "# Generate individual channel PNGs\n",
    "plt.rcParams['font.family'] = 'Arial'\n",
    "\n",
    "for ch in abx_channels:\n",
    "    print(ch)\n",
    "    fig, ax = plt.subplots()\n",
    "    ax.scatter(\n",
    "        main[f'{clustering}_emb1'], main[f'{clustering}_emb2'], c=main[ch],\n",
    "        linewidth=0.1, s=144000 / len(main)) \n",
    "    ax.set_axisbelow(True)\n",
    "    ax.grid(True, lw=1)\n",
    "    plt.tick_params(labelsize=10)\n",
    "    plt.savefig(os.path.join(out, f'{ch}.png'), bbox_inches='tight', dpi=800)\n",
    "    plt.show()\n",
    "    plt.close('all')"
   ]
  },
  {
   "cell_type": "code",
   "execution_count": null,
   "id": "5633630d-e1ff-45c3-8e54-12b36e6f2e18",
   "metadata": {},
   "outputs": [],
   "source": [
    "# Generate single facetgrid showing all channels\n",
    "df_melt = (\n",
    "    main[abx_channels + ['VAE20_ROT_VIG40_emb1', 'VAE20_ROT_VIG40_emb2']]\n",
    "    .sample(frac=0.1)\n",
    "    .reset_index(drop=True)\n",
    "    .melt(id_vars=['VAE20_ROT_VIG40_emb1', 'VAE20_ROT_VIG40_emb2'], var_name='abx')\n",
    ")\n",
    "\n",
    "ch_dict = {\n",
    "    'anti_CD3': 'CD3\\u03B5', 'anti_CD45RO': 'CD45RO', 'Keratin_570': 'Keratin', 'aSMA_660': '\\u03B1SMA',\n",
    "    'CD4_488': 'CD4', 'CD45_PE': 'CD45', 'PD1_647': 'PD1', 'CD20_488': 'CD20', 'CD68_555': 'CD68',\n",
    "    'CD8a_660': 'CD8\\u03B1', 'CD163_488': 'CD163', 'FOXP3_570': 'FOXP3', 'PDL1_647': 'PDL1',\n",
    "    'Ecad_488': 'ECAD', 'Vimentin_555': 'Vimentin', 'CDX2_647': 'CDX2', 'LaminABC_488': 'LaminABC',\n",
    "    'Desmin_555': 'Desmin', 'CD31_647': 'CD31', 'PCNA_488': 'PCNA', 'CollagenIV_647': 'CollagenIV'\n",
    "}\n",
    "\n",
    "long_table = pd.DataFrame(columns=['channel', 'image'])\n",
    "for e, file in enumerate(os.listdir(out)):\n",
    "    if not file.startswith(('.', 'combined.png')):\n",
    "        channel_name = ch_dict[file.split('.png')[0]]\n",
    "        img = Image.open(os.path.join(out, file))\n",
    "        arr = asarray(img)\n",
    "        long_table.loc[e, 'channel'] = channel_name\n",
    "        long_table.loc[e, 'image'] = arr\n",
    "\n",
    "g = sns.FacetGrid(long_table, col='channel', col_wrap=4, sharex=False, sharey=False)\n",
    "\n",
    "g.map(\n",
    "    lambda image, **kwargs: (plt.imshow(image.values[0]), plt.grid(False)), 'image'\n",
    ")\n",
    "\n",
    "for ax in g.axes.flatten():\n",
    "    ax.axis('off')\n",
    "\n",
    "g.set_titles(col_template=\"{col_name}\", fontweight='normal', size=10)\n",
    "g.fig.tight_layout()\n",
    "plt.subplots_adjust(hspace=-0.1)\n",
    "plt.savefig(\n",
    "    os.path.join(out, 'combined.png'), bbox_inches='tight', dpi=800\n",
    ")\n",
    "plt.show()\n",
    "plt.close('all')"
   ]
  }
 ],
 "metadata": {
  "kernelspec": {
   "display_name": "Python 3 (ipykernel)",
   "language": "python",
   "name": "python3"
  },
  "language_info": {
   "codemirror_mode": {
    "name": "ipython",
    "version": 3
   },
   "file_extension": ".py",
   "mimetype": "text/x-python",
   "name": "python",
   "nbconvert_exporter": "python",
   "pygments_lexer": "ipython3",
   "version": "3.11.5"
  }
 },
 "nbformat": 4,
 "nbformat_minor": 5
}
